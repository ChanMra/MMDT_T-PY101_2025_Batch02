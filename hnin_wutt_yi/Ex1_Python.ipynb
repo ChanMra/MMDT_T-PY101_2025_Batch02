{
  "cells": [
    {
      "cell_type": "markdown",
      "metadata": {
        "id": "view-in-github",
        "colab_type": "text"
      },
      "source": [
        "<a href=\"https://colab.research.google.com/github/mshninwuttyi/MMDT_T-PY101_2025_Batch02/blob/main/hnin_wutt_yi/Ex1_Python.ipynb\" target=\"_parent\"><img src=\"https://colab.research.google.com/assets/colab-badge.svg\" alt=\"Open In Colab\"/></a>"
      ]
    },
    {
      "cell_type": "markdown",
      "metadata": {
        "id": "thgO68_HZ0Aa"
      },
      "source": [
        "# Introduction"
      ]
    },
    {
      "cell_type": "markdown",
      "metadata": {
        "id": "PIh3i0c_Z_yP"
      },
      "source": [
        "This section introduces the Python Programming uisng Colab. Follow the instructions and complete the exercises."
      ]
    },
    {
      "cell_type": "markdown",
      "metadata": {
        "id": "gCw6SfeFZ78l"
      },
      "source": [
        "# Ex 1 : Check Version"
      ]
    },
    {
      "cell_type": "markdown",
      "metadata": {
        "id": "6Vm-27iLabjm"
      },
      "source": [
        "Using the below cell, Import the required library and check the version of the python in your environment."
      ]
    },
    {
      "cell_type": "code",
      "execution_count": 1,
      "metadata": {
        "id": "PJDYHB4AXVdc",
        "colab": {
          "base_uri": "https://localhost:8080/",
          "height": 35
        },
        "outputId": "06591fbe-0589-4cf1-8551-b674ca537257"
      },
      "outputs": [
        {
          "output_type": "execute_result",
          "data": {
            "text/plain": [
              "'3.12.11 (main, Jun  4 2025, 08:56:18) [GCC 11.4.0]'"
            ],
            "application/vnd.google.colaboratory.intrinsic+json": {
              "type": "string"
            }
          },
          "metadata": {},
          "execution_count": 1
        }
      ],
      "source": [
        "import sys\n",
        "sys.version"
      ]
    },
    {
      "cell_type": "markdown",
      "metadata": {
        "id": "5qTEiwGlawf5"
      },
      "source": [
        "# Ex2 : Convert Currency."
      ]
    },
    {
      "cell_type": "markdown",
      "metadata": {
        "id": "XH8K1p0ypVCg"
      },
      "source": [
        "Write a program that asks the user for the amount in usd and converts it to British pounds. The exchange rate is from usd to BP is given as 0.82"
      ]
    },
    {
      "cell_type": "code",
      "execution_count": 2,
      "metadata": {
        "id": "x9xQXOnRa0MS",
        "colab": {
          "base_uri": "https://localhost:8080/"
        },
        "outputId": "8447bdff-150f-4f90-d078-8907fe934f02"
      },
      "outputs": [
        {
          "output_type": "stream",
          "name": "stdout",
          "text": [
            "Enter the amount in USD: 10\n",
            "10 usd is equivalent to 8.2 british pound\n"
          ]
        }
      ],
      "source": [
        "usd_amount = input (\"Enter the amount in USD: \")\n",
        "bp_amount = int(usd_amount) *0.82\n",
        "print(\"{} usd is equivalent to {} british pound\".format(usd_amount, bp_amount))"
      ]
    },
    {
      "cell_type": "markdown",
      "metadata": {
        "id": "ePfECwUIpli4"
      },
      "source": [
        "# Ex 3: Temperature Converter"
      ]
    },
    {
      "cell_type": "markdown",
      "metadata": {
        "id": "Y60hUWDsp3pK"
      },
      "source": [
        "Write a program that convert temperature in Feranhite to celsius."
      ]
    },
    {
      "cell_type": "code",
      "execution_count": 3,
      "metadata": {
        "id": "G9PbO6qPoUfn",
        "colab": {
          "base_uri": "https://localhost:8080/"
        },
        "outputId": "6f9d3036-5a98-47df-c54a-92180c4174a9"
      },
      "outputs": [
        {
          "output_type": "stream",
          "name": "stdout",
          "text": [
            "Enter temperatre in F: 10\n",
            "10 Feranhite is equal to -12.22 Celsius\n"
          ]
        }
      ],
      "source": [
        "temp_F = input(\"Enter temperatre in F: \")\n",
        "temp_C = (int(temp_F)-32)*5/9\n",
        "\n",
        "print(\"{} Feranhite is equal to {:.2f} Celsius\".format(temp_F, temp_C))"
      ]
    },
    {
      "cell_type": "markdown",
      "metadata": {
        "id": "a2kNRO9Vp7Qz"
      },
      "source": [
        "# Ex 4: Daily Maths"
      ]
    },
    {
      "cell_type": "markdown",
      "metadata": {
        "id": "lItKon9qqEUn"
      },
      "source": [
        "You are working in a retail shop. Write a program that computes the total cost for a customer that bought 3 differnt types of fruits : apple, orange, mango. Ask the user to enter the quantity and price for each type."
      ]
    },
    {
      "cell_type": "code",
      "execution_count": 4,
      "metadata": {
        "id": "mIQFjH6wqDma",
        "colab": {
          "base_uri": "https://localhost:8080/"
        },
        "outputId": "3034c44a-9586-4e7e-ec5d-c5e3c16871c2"
      },
      "outputs": [
        {
          "output_type": "stream",
          "name": "stdout",
          "text": [
            "Enter number of apples : 1\n",
            "Enter price per apple : 10\n",
            "Enter number of oranges : 2\n",
            "Enter price per orange : 10\n",
            "Enter number of mangoes : 3\n",
            "Enter price per mango : 10\n",
            "Total cost is :  60\n"
          ]
        }
      ],
      "source": [
        "apple_qty = input(\"Enter number of apples : \")\n",
        "apple_price = input (\"Enter price per apple : \")\n",
        "\n",
        "orange_qty = input(\"Enter number of oranges : \")\n",
        "orange_price = input (\"Enter price per orange : \")\n",
        "\n",
        "mango_qty = input(\"Enter number of mangoes : \")\n",
        "mango_price = input (\"Enter price per mango : \")\n",
        "\n",
        "total_cost = int(apple_qty)*int(apple_price) + int(orange_qty)*int(orange_price) + int(mango_qty)*int(mango_price)\n",
        "print(\"Total cost is : \" , total_cost)"
      ]
    },
    {
      "cell_type": "markdown",
      "metadata": {
        "id": "31fXlmEQqgvW"
      },
      "source": [
        "# Ex 5 : Greeting"
      ]
    },
    {
      "cell_type": "markdown",
      "metadata": {
        "id": "zvnmj8MGrJIw"
      },
      "source": [
        "Write a program to greet the customer who provides the user name. Your program should ask the name of the customer and print \"Hello + customer name\""
      ]
    },
    {
      "cell_type": "code",
      "execution_count": 5,
      "metadata": {
        "id": "Z6ynxZMarIXh",
        "colab": {
          "base_uri": "https://localhost:8080/"
        },
        "outputId": "dba585bc-e02a-4c1c-aeee-27de7d5ca4a2"
      },
      "outputs": [
        {
          "output_type": "stream",
          "name": "stdout",
          "text": [
            "Enter your name : Hnin\n",
            "Hello  Hnin\n"
          ]
        }
      ],
      "source": [
        "customer_name = input(\"Enter your name : \")\n",
        "print(\"Hello \",customer_name)"
      ]
    },
    {
      "cell_type": "markdown",
      "metadata": {
        "id": "9nDcqQAPYH3i"
      },
      "source": [
        "# Ex 6: Random Number\n",
        "Write a program that generates a random number, x, between 1 and 50, a random number y between 2 and 5, and computes x^y."
      ]
    },
    {
      "cell_type": "code",
      "execution_count": 6,
      "metadata": {
        "id": "Rn0eYxRMYH3i",
        "colab": {
          "base_uri": "https://localhost:8080/"
        },
        "outputId": "d08abb2d-ffa2-4aaf-8253-ff6aa74f570c"
      },
      "outputs": [
        {
          "output_type": "stream",
          "name": "stdout",
          "text": [
            "x is :  10\n",
            "y is :  3\n",
            "x^y is :  1000\n"
          ]
        }
      ],
      "source": [
        "from random import randint\n",
        "x = randint(1,50)\n",
        "y = randint(2,5)\n",
        "result = x**y\n",
        "print(\"x is : \", x)\n",
        "print(\"y is : \", y)\n",
        "print(\"x^y is : \", result)"
      ]
    },
    {
      "cell_type": "markdown",
      "metadata": {
        "id": "P88bqxBdYH3i"
      },
      "source": [
        "# Ex 7: Greet many times.\n",
        "Write a program that generates a random number between 1 and 10 and prints your name that many times."
      ]
    },
    {
      "cell_type": "code",
      "execution_count": 7,
      "metadata": {
        "id": "dZhhihIaYH3i",
        "colab": {
          "base_uri": "https://localhost:8080/"
        },
        "outputId": "18cb1908-4ef7-4648-e243-1d32950b56ec"
      },
      "outputs": [
        {
          "output_type": "stream",
          "name": "stdout",
          "text": [
            "Enter your name : Hnin\n",
            "Hnin\n",
            "Hnin\n",
            "Hnin\n"
          ]
        }
      ],
      "source": [
        "times = randint(1,10)\n",
        "name = input(\"Enter your name : \")\n",
        "for _ in range(times):\n",
        "  print(name)\n"
      ]
    },
    {
      "cell_type": "markdown",
      "metadata": {
        "id": "yH34HKSWYH3j"
      },
      "source": [
        "# Ex 8: Computing.\n",
        "Write a program that asks the user to enter two numbers, x and y, and computes |x-y|/(x+y)."
      ]
    },
    {
      "cell_type": "code",
      "execution_count": 9,
      "metadata": {
        "id": "lRcdgkcEYH3j",
        "colab": {
          "base_uri": "https://localhost:8080/"
        },
        "outputId": "fb11a874-232f-445b-d1ad-b022aaf0a7b9"
      },
      "outputs": [
        {
          "output_type": "stream",
          "name": "stdout",
          "text": [
            "Enter x value :10\n",
            "Enter y value :3\n",
            "Result is : 0.5384615384615384\n"
          ]
        }
      ],
      "source": [
        "a = input(\"Enter x value :\")\n",
        "b= input(\"Enter y value :\")\n",
        "x = int(a)\n",
        "y = int(b)\n",
        "\n",
        "result = abs(x-y)/(x+y)\n",
        "print(\"Result is :\",result)"
      ]
    },
    {
      "cell_type": "markdown",
      "metadata": {
        "id": "hc4m3HXGYH3j"
      },
      "source": [
        "# Ex 9: Computing\n",
        "\n",
        "Write a program that asks the user for a number of seconds and prints out how many minutes and seconds that is. For instance, 200 seconds is 3 minutes and 20 seconds."
      ]
    },
    {
      "cell_type": "code",
      "execution_count": 10,
      "metadata": {
        "id": "IDj-OI9uYH3j",
        "colab": {
          "base_uri": "https://localhost:8080/"
        },
        "outputId": "5b0c29f5-0b68-495d-a8f0-209ad64480fd"
      },
      "outputs": [
        {
          "output_type": "stream",
          "name": "stdout",
          "text": [
            "Enter seconds :200\n",
            "200 seconds is 3 minutes and 20 seconds.\n"
          ]
        }
      ],
      "source": [
        "input_seconds = input(\"Enter seconds :\")\n",
        "minAndSec = int(input_seconds)/60\n",
        "\n",
        "minutes = int(input_seconds)//60\n",
        "\n",
        "seconds = int(input_seconds)%60\n",
        "\n",
        "print(\"{} seconds is {} minutes and {} seconds.\".format(input_seconds,minutes,seconds))"
      ]
    },
    {
      "cell_type": "markdown",
      "metadata": {
        "id": "m5WX4JD3YH3j"
      },
      "source": [
        "# Ex 10: Using Math Module\n",
        "\n",
        "Write a program that asks the user for a number and then prints out the sine, cosine, and tangent of that number."
      ]
    },
    {
      "cell_type": "code",
      "execution_count": 11,
      "metadata": {
        "id": "FtvXC8xZYH3k",
        "colab": {
          "base_uri": "https://localhost:8080/"
        },
        "outputId": "627e15aa-66e1-46a6-9906-9d4a0211c223"
      },
      "outputs": [
        {
          "output_type": "stream",
          "name": "stdout",
          "text": [
            "Enter number :2\n",
            "Sine value : 0.9092974268256817\n",
            "CoSine value : -0.4161468365471424\n",
            "Tangent value : -2.185039863261519\n"
          ]
        }
      ],
      "source": [
        "import math\n",
        "number = float(input(\"Enter number :\"))\n",
        "\n",
        "sine_value = math.sin(number)\n",
        "cosine_value = math.cos(number)\n",
        "tangent_value = math.tan(number)\n",
        "\n",
        "print(\"Sine value :\", sine_value)\n",
        "print(\"CoSine value :\", cosine_value)\n",
        "print(\"Tangent value :\", tangent_value)\n"
      ]
    }
  ],
  "metadata": {
    "colab": {
      "name": "Ex1_Python.ipynb",
      "provenance": [],
      "include_colab_link": true
    },
    "kernelspec": {
      "display_name": "Python 3",
      "language": "python",
      "name": "python3"
    },
    "language_info": {
      "codemirror_mode": {
        "name": "ipython",
        "version": 3
      },
      "file_extension": ".py",
      "mimetype": "text/x-python",
      "name": "python",
      "nbconvert_exporter": "python",
      "pygments_lexer": "ipython3",
      "version": "3.12.1"
    }
  },
  "nbformat": 4,
  "nbformat_minor": 0
}