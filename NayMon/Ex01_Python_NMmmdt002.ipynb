{
  "cells": [
    {
      "cell_type": "markdown",
      "metadata": {
        "id": "thgO68_HZ0Aa"
      },
      "source": [
        "# Introduction"
      ]
    },
    {
      "cell_type": "markdown",
      "metadata": {
        "id": "PIh3i0c_Z_yP"
      },
      "source": [
        "This section introduces the Python Programming uisng Colab. Follow the instructions and complete the exercises."
      ]
    },
    {
      "cell_type": "markdown",
      "metadata": {
        "id": "gCw6SfeFZ78l"
      },
      "source": [
        "# Ex 1 : Check Version"
      ]
    },
    {
      "cell_type": "markdown",
      "metadata": {
        "id": "6Vm-27iLabjm"
      },
      "source": [
        "Using the below cell, Import the required library and check the version of the python in your environment."
      ]
    },
    {
      "cell_type": "code",
      "execution_count": 1,
      "metadata": {
        "id": "PJDYHB4AXVdc",
        "colab": {
          "base_uri": "https://localhost:8080/",
          "height": 36
        },
        "outputId": "5ac9479a-c837-4a5a-bc4e-aa07b4838a5d"
      },
      "outputs": [
        {
          "output_type": "execute_result",
          "data": {
            "text/plain": [
              "'3.12.11 (main, Jun  4 2025, 08:56:18) [GCC 11.4.0]'"
            ],
            "application/vnd.google.colaboratory.intrinsic+json": {
              "type": "string"
            }
          },
          "metadata": {},
          "execution_count": 1
        }
      ],
      "source": [
        "import sys\n",
        "sys.version"
      ]
    },
    {
      "cell_type": "markdown",
      "metadata": {
        "id": "5qTEiwGlawf5"
      },
      "source": [
        "# Ex2 : Convert Currency."
      ]
    },
    {
      "cell_type": "markdown",
      "metadata": {
        "id": "XH8K1p0ypVCg"
      },
      "source": [
        "Write a program that asks the user for the amount in usd and converts it to British pounds. The exchange rate is from usd to BP is given as 0.82"
      ]
    },
    {
      "cell_type": "code",
      "execution_count": 2,
      "metadata": {
        "id": "x9xQXOnRa0MS",
        "colab": {
          "base_uri": "https://localhost:8080/"
        },
        "outputId": "40b53d06-75ab-4113-df5b-8c2a5680111d"
      },
      "outputs": [
        {
          "output_type": "stream",
          "name": "stdout",
          "text": [
            "Enter the amount in USD: 100\n",
            "100 usd is equivalent to 82.0 british pound\n"
          ]
        }
      ],
      "source": [
        "usd_amount = input (\"Enter the amount in USD: \")\n",
        "bp_amount = int(usd_amount) *0.82\n",
        "print(\"{} usd is equivalent to {} british pound\".format(usd_amount, bp_amount))"
      ]
    },
    {
      "cell_type": "markdown",
      "metadata": {
        "id": "ePfECwUIpli4"
      },
      "source": [
        "# Ex 3: Temperature Converter"
      ]
    },
    {
      "cell_type": "markdown",
      "metadata": {
        "id": "Y60hUWDsp3pK"
      },
      "source": [
        "Write a program that convert temperature in Feranhite to celsius."
      ]
    },
    {
      "cell_type": "code",
      "execution_count": 8,
      "metadata": {
        "id": "G9PbO6qPoUfn",
        "colab": {
          "base_uri": "https://localhost:8080/"
        },
        "outputId": "68f37087-5b56-4317-86c0-1cf2d53881eb"
      },
      "outputs": [
        {
          "output_type": "stream",
          "name": "stdout",
          "text": [
            "Enter the amount in Feranhite32\n",
            "32Feranhite is equivalent to 0.0 Celsius\n"
          ]
        }
      ],
      "source": [
        "Feranhite = input (\"Enter the amount in Feranhite\")\n",
        "Celsius = (int(Feranhite)-32)*5/9\n",
        "print(\"{}Feranhite is equivalent to {} Celsius\".format(Feranhite, Celsius))"
      ]
    },
    {
      "cell_type": "markdown",
      "metadata": {
        "id": "a2kNRO9Vp7Qz"
      },
      "source": [
        "# Ex 4: Daily Maths"
      ]
    },
    {
      "cell_type": "markdown",
      "metadata": {
        "id": "lItKon9qqEUn"
      },
      "source": [
        "You are working in a retail shop. Write a program that computes the total cost for a customer that bought 3 differnt types of fruits : apple, orange, mango. Ask the user to enter the quantity and price for each type."
      ]
    },
    {
      "cell_type": "code",
      "execution_count": 11,
      "metadata": {
        "id": "mIQFjH6wqDma",
        "colab": {
          "base_uri": "https://localhost:8080/"
        },
        "outputId": "2408bf9a-fb5b-472d-eb80-5e068e4ad1e6"
      },
      "outputs": [
        {
          "output_type": "stream",
          "name": "stdout",
          "text": [
            "Enter the price of Apple3\n",
            "Enter the Quantity of Apple10\n",
            "Enter the price of Orange2\n",
            "Enter the Quantity of Orange0\n",
            "Enter the price of Mango1\n",
            "Enter the Quantity of Mango10\n",
            "Your Total Cost is 40.\n"
          ]
        }
      ],
      "source": [
        "Apple_P = input (\"Enter the price of Apple\")\n",
        "Apple_Q = input (\"Enter the Quantity of Apple\")\n",
        "Orange_P = input (\"Enter the price of Orange\")\n",
        "Orange_Q = input (\"Enter the Quantity of Orange\")\n",
        "Mango_P = input (\"Enter the price of Mango\")\n",
        "Mango_Q = input (\"Enter the Quantity of Mango\")\n",
        "Total_Cost = (int(Apple_P)*int(Apple_Q))+(int(Orange_P)*int(Orange_Q))+(int(Mango_P)*int(Mango_Q))1\n",
        "print(\"Your Total Cost is {}.\".format(Total_Cost))"
      ]
    },
    {
      "cell_type": "markdown",
      "metadata": {
        "id": "31fXlmEQqgvW"
      },
      "source": [
        "# Ex 5 : Greeting"
      ]
    },
    {
      "cell_type": "markdown",
      "metadata": {
        "id": "zvnmj8MGrJIw"
      },
      "source": [
        "Write a program to greet the customer who provides the user name. Your program should ask the name of the customer and print \"Hello + customer name\""
      ]
    },
    {
      "cell_type": "code",
      "execution_count": 12,
      "metadata": {
        "id": "Z6ynxZMarIXh",
        "colab": {
          "base_uri": "https://localhost:8080/"
        },
        "outputId": "537b4504-755d-468c-e666-da4c41153cec"
      },
      "outputs": [
        {
          "output_type": "stream",
          "name": "stdout",
          "text": [
            "Enter your Name, Pleasenm\n",
            "Hello!nm\n"
          ]
        }
      ],
      "source": [
        "Name = input(\"Enter your Name, Please\")\n",
        "print (\"Hello!\"+ Name)"
      ]
    },
    {
      "cell_type": "markdown",
      "metadata": {
        "id": "Suf4Cbg5cCNn"
      },
      "source": [
        "# Ex 6: Random Number\n",
        "Write a program that generates a random number, x, between 1 and 50, a random number y between 2 and 5, and computes x^y."
      ]
    },
    {
      "cell_type": "code",
      "execution_count": 17,
      "metadata": {
        "id": "eO8dnPsCcCNo",
        "colab": {
          "base_uri": "https://localhost:8080/"
        },
        "outputId": "5a2bc31e-cfd3-41cc-e764-ddd723579935"
      },
      "outputs": [
        {
          "output_type": "stream",
          "name": "stdout",
          "text": [
            "A random number between 1 and 50:  21\n",
            "A random number between 2 and 5:  5\n",
            "The result of x^y is 4084101.\n"
          ]
        }
      ],
      "source": [
        "from random import randint\n",
        "x = randint(1,50)\n",
        "print('A random number between 1 and 50: ', x)\n",
        "y = randint(2,5)\n",
        "print('A random number between 2 and 5: ', y)\n",
        "result = int(x)**int(y)\n",
        "print(\"The result of x^y is {}.\".format(result))"
      ]
    },
    {
      "cell_type": "markdown",
      "metadata": {
        "id": "LL2k6MY1cCNo"
      },
      "source": [
        "# Ex 7: Greet many times.\n",
        "Write a program that generates a random number between 1 and 10 and prints your name that many times."
      ]
    },
    {
      "cell_type": "code",
      "execution_count": 19,
      "metadata": {
        "id": "6JPTUUhIcCNp",
        "colab": {
          "base_uri": "https://localhost:8080/"
        },
        "outputId": "fe825269-d3e1-41d1-bd08-ec0c22b04616"
      },
      "outputs": [
        {
          "output_type": "stream",
          "name": "stdout",
          "text": [
            "A random number between 1 and 10:  2\n",
            "Enter your Name: NM\n",
            "NMNM\n"
          ]
        }
      ],
      "source": [
        "from random import randint\n",
        "x = randint(1,10)\n",
        "print(\"A random number between 1 and 10: \",x)\n",
        "Name = input(\"Enter your Name: \")\n",
        "print(Name*x)\n"
      ]
    },
    {
      "cell_type": "markdown",
      "metadata": {
        "id": "_RJS71jmcCNp"
      },
      "source": [
        "# Ex 8: Computing.\n",
        "Write a program that asks the user to enter two numbers, x and y, and computes |x-y|/(x+y)."
      ]
    },
    {
      "cell_type": "code",
      "execution_count": 28,
      "metadata": {
        "id": "6SSLrQF-cCNp",
        "colab": {
          "base_uri": "https://localhost:8080/"
        },
        "outputId": "9e68c5a5-f3ed-46b1-dca5-7cd2ef5e84ed"
      },
      "outputs": [
        {
          "output_type": "stream",
          "name": "stdout",
          "text": [
            "Enter the First Number: 1\n",
            "Enter the Second Number: 1\n",
            "The result of Equation is 0.0\n"
          ]
        }
      ],
      "source": [
        "x = input(\"Enter the First Number: \")\n",
        "y = input(\"Enter the Second Number: \")\n",
        "a = abs(int(x)-int(y))\n",
        "b = int(x)+int(y)\n",
        "result = a/b\n",
        "print(\"The result of Equation is {}\".format(result))"
      ]
    },
    {
      "cell_type": "markdown",
      "metadata": {
        "id": "NfWB-dThcCNp"
      },
      "source": [
        "# Ex 9: Computing\n",
        "\n",
        "Write a program that asks the user for a number of seconds and prints out how many minutes and seconds that is. For instance, 200 seconds is 3 minutes and 20 seconds."
      ]
    },
    {
      "cell_type": "code",
      "execution_count": 30,
      "metadata": {
        "id": "3uHbwWGscCNq",
        "colab": {
          "base_uri": "https://localhost:8080/"
        },
        "outputId": "35d8900e-4d89-4812-c442-1215d6aa0846"
      },
      "outputs": [
        {
          "output_type": "stream",
          "name": "stdout",
          "text": [
            "Enter a number of seconds: 200\n",
            "3 miniutes and 20 seconds\n"
          ]
        }
      ],
      "source": [
        "Number = input(\"Enter a number of seconds: \")\n",
        "minute = int(Number)//60\n",
        "second = int(Number) - (minute*60)\n",
        "print(\"{} miniutes and {} seconds\".format(minute,second))"
      ]
    },
    {
      "cell_type": "markdown",
      "metadata": {
        "id": "XMrBUvF4cCNq"
      },
      "source": [
        "# Ex 10: Using Math Module\n",
        "\n",
        "Write a program that asks the user for a number and then prints out the sine, cosine, and tangent of that number."
      ]
    },
    {
      "cell_type": "code",
      "execution_count": 36,
      "metadata": {
        "id": "BJcmZhQycCNq",
        "colab": {
          "base_uri": "https://localhost:8080/"
        },
        "outputId": "a971c17c-9116-474e-fcb7-d34fac27e1fa"
      },
      "outputs": [
        {
          "output_type": "stream",
          "name": "stdout",
          "text": [
            "Enter a number:60\n",
            "-0.3048106211022167\n",
            "-0.9524129804151563\n",
            "0.320040389379563\n"
          ]
        }
      ],
      "source": [
        "import math\n",
        "num = float(input(\"Enter a number:\"))\n",
        "sine_value = math.sin(num)\n",
        "print(sine_value)\n",
        "cosine_value = math.cos(num)\n",
        "print(cosine_value)\n",
        "tangent = math.tan(num)\n",
        "print(tangent)"
      ]
    }
  ],
  "metadata": {
    "colab": {
      "provenance": []
    },
    "kernelspec": {
      "display_name": "Python 3",
      "language": "python",
      "name": "python3"
    },
    "language_info": {
      "codemirror_mode": {
        "name": "ipython",
        "version": 3
      },
      "file_extension": ".py",
      "mimetype": "text/x-python",
      "name": "python",
      "nbconvert_exporter": "python",
      "pygments_lexer": "ipython3",
      "version": "3.12.1"
    }
  },
  "nbformat": 4,
  "nbformat_minor": 0
}