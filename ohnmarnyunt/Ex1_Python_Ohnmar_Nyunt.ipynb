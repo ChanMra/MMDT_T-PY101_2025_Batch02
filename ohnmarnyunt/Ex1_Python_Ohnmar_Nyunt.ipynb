{
  "cells": [
    {
      "cell_type": "markdown",
      "metadata": {
        "id": "view-in-github",
        "colab_type": "text"
      },
      "source": [
        "<a href=\"https://colab.research.google.com/github/ohnmarnyunt/MMDT_T-PY101_2025_Batch02/blob/main/ohnmarnyunt/Ex1_Python_Ohnmar_Nyunt.ipynb\" target=\"_parent\"><img src=\"https://colab.research.google.com/assets/colab-badge.svg\" alt=\"Open In Colab\"/></a>"
      ]
    },
    {
      "cell_type": "markdown",
      "metadata": {
        "id": "thgO68_HZ0Aa"
      },
      "source": [
        "# Introduction"
      ]
    },
    {
      "cell_type": "markdown",
      "metadata": {
        "id": "PIh3i0c_Z_yP"
      },
      "source": [
        "This section introduces the Python Programming uisng Colab. Follow the instructions and complete the exercises."
      ]
    },
    {
      "cell_type": "markdown",
      "metadata": {
        "id": "gCw6SfeFZ78l"
      },
      "source": [
        "# Ex 1 : Check Version"
      ]
    },
    {
      "cell_type": "markdown",
      "metadata": {
        "id": "6Vm-27iLabjm"
      },
      "source": [
        "Using the below cell, Import the required library and check the version of the python in your environment."
      ]
    },
    {
      "cell_type": "code",
      "execution_count": null,
      "metadata": {
        "id": "PJDYHB4AXVdc",
        "outputId": "6cde3398-d305-4360-ae3f-2b22e19e4eef",
        "colab": {
          "base_uri": "https://localhost:8080/",
          "height": 35
        }
      },
      "outputs": [
        {
          "output_type": "execute_result",
          "data": {
            "text/plain": [
              "'3.12.11 (main, Jun  4 2025, 08:56:18) [GCC 11.4.0]'"
            ],
            "application/vnd.google.colaboratory.intrinsic+json": {
              "type": "string"
            }
          },
          "metadata": {},
          "execution_count": 1
        }
      ],
      "source": [
        "import numpy as np\n",
        "import pandas as pd\n",
        "import sys\n",
        "sys.version"
      ]
    },
    {
      "cell_type": "markdown",
      "metadata": {
        "id": "5qTEiwGlawf5"
      },
      "source": [
        "# Ex2 : Convert Currency."
      ]
    },
    {
      "cell_type": "markdown",
      "metadata": {
        "id": "XH8K1p0ypVCg"
      },
      "source": [
        "Write a program that asks the user for the amount in usd and converts it to British pounds. The exchange rate is from usd to BP is given as 0.82"
      ]
    },
    {
      "cell_type": "code",
      "execution_count": null,
      "metadata": {
        "colab": {
          "base_uri": "https://localhost:8080/"
        },
        "id": "x9xQXOnRa0MS",
        "outputId": "b135af7e-e402-4b82-8bf8-0b67d018da92"
      },
      "outputs": [
        {
          "output_type": "stream",
          "name": "stdout",
          "text": [
            "Enter the amount in USD: 100\n",
            "100 usd is equivalent to 82.0 british pound\n"
          ]
        }
      ],
      "source": [
        "usd_amount = input (\"Enter the amount in USD: \")\n",
        "bp_amount = float(usd_amount) *0.82\n",
        "print(\"{} usd is equivalent to {} british pound\".format(usd_amount, bp_amount))"
      ]
    },
    {
      "cell_type": "markdown",
      "metadata": {
        "id": "ePfECwUIpli4"
      },
      "source": [
        "# Ex 3: Temperature Converter"
      ]
    },
    {
      "cell_type": "markdown",
      "metadata": {
        "id": "Y60hUWDsp3pK"
      },
      "source": [
        "Write a program that convert temperature in Feranhite to celsius."
      ]
    },
    {
      "cell_type": "code",
      "execution_count": null,
      "metadata": {
        "id": "G9PbO6qPoUfn",
        "outputId": "7c568766-6ecf-4563-e8b7-22ab482de4e0",
        "colab": {
          "base_uri": "https://localhost:8080/"
        }
      },
      "outputs": [
        {
          "output_type": "stream",
          "name": "stdout",
          "text": [
            "Enter the temperature in Feranhite: 98\n",
            "98 feranhite is equivalent to 36.66666666666667 celsius\n"
          ]
        }
      ],
      "source": [
        "feranhite = input (\"Enter the temperature in Feranhite: \")\n",
        "celsius = 5/9 * (float(feranhite)-32)\n",
        "print(\"{} feranhite is equivalent to {} celsius\".format(feranhite, celsius))"
      ]
    },
    {
      "cell_type": "markdown",
      "metadata": {
        "id": "a2kNRO9Vp7Qz"
      },
      "source": [
        "# Ex 4: Daily Maths"
      ]
    },
    {
      "cell_type": "markdown",
      "metadata": {
        "id": "lItKon9qqEUn"
      },
      "source": [
        "You are working in a retail shop. Write a program that computes the total cost for a customer that bought 3 differnt types of fruits : apple, orange, mango. Ask the user to enter the quantity and price for each type."
      ]
    },
    {
      "cell_type": "code",
      "execution_count": null,
      "metadata": {
        "id": "mIQFjH6wqDma",
        "outputId": "e6cc954d-63e7-4328-c982-f9005982b39a",
        "colab": {
          "base_uri": "https://localhost:8080/"
        }
      },
      "outputs": [
        {
          "output_type": "stream",
          "name": "stdout",
          "text": [
            "Enter the quantity for apple: 5\n",
            "Enter the price for apple: 100\n",
            "Enter the quantity for orange: 4\n",
            "Enter the price for orange: 80\n",
            "Enter the quantity for mango: 3\n",
            "Enter the price for mango: 150\n",
            "Total cost: 1270.0\n"
          ]
        }
      ],
      "source": [
        "apple_qty = input(\"Enter the quantity for apple: \")\n",
        "apple_price = input(\"Enter the price for apple: \")\n",
        "\n",
        "orange_qty = input(\"Enter the quantity for orange: \")\n",
        "orange_price = input(\"Enter the price for orange: \")\n",
        "\n",
        "mango_qty = input(\"Enter the quantity for mango: \")\n",
        "mango_price = input(\"Enter the price for mango: \")\n",
        "\n",
        "total_cost = (int(apple_qty)*float(apple_price)) + (int(orange_qty)*float(orange_price)) + (int(mango_qty)*float(mango_price))\n",
        "\n",
        "print (\"Total cost: {}\".format(total_cost))"
      ]
    },
    {
      "cell_type": "markdown",
      "metadata": {
        "id": "31fXlmEQqgvW"
      },
      "source": [
        "# Ex 5 : Greeting"
      ]
    },
    {
      "cell_type": "markdown",
      "metadata": {
        "id": "zvnmj8MGrJIw"
      },
      "source": [
        "Write a program to greet the customer who provides the user name. Your program should ask the name of the customer and print \"Hello + customer name\""
      ]
    },
    {
      "cell_type": "code",
      "execution_count": null,
      "metadata": {
        "id": "Z6ynxZMarIXh",
        "outputId": "c22be742-27da-458a-8156-b8b49d59e6a0",
        "colab": {
          "base_uri": "https://localhost:8080/"
        }
      },
      "outputs": [
        {
          "output_type": "stream",
          "name": "stdout",
          "text": [
            "Enter the customer name: Ohnmar\n",
            "Hello Ohnmar\n"
          ]
        }
      ],
      "source": [
        "customer = input(\"Enter the customer name: \")\n",
        "print(\"Hello \" + customer)"
      ]
    },
    {
      "cell_type": "markdown",
      "metadata": {
        "id": "cUVQXlGoWQBy"
      },
      "source": [
        "# Ex 6: Random Number\n",
        "Write a program that generates a random number, x, between 1 and 50, a random number y between 2 and 5, and computes x^y."
      ]
    },
    {
      "cell_type": "code",
      "execution_count": null,
      "metadata": {
        "id": "-feCww-pWQBy",
        "outputId": "486521da-009d-4495-87e5-9d6ffcb32375",
        "colab": {
          "base_uri": "https://localhost:8080/"
        }
      },
      "outputs": [
        {
          "output_type": "stream",
          "name": "stdout",
          "text": [
            "A random number between 1 and 50:  25\n",
            "B random number between 2 and 5:  2\n",
            "x^y:  625\n"
          ]
        }
      ],
      "source": [
        "from random import randint\n",
        "x = randint(1,50)\n",
        "y = randint(2,5)\n",
        "print('A random number between 1 and 50: ', x)\n",
        "print('B random number between 2 and 5: ', y)\n",
        "print('x^y: ', x**y)"
      ]
    },
    {
      "cell_type": "markdown",
      "metadata": {
        "id": "8Oe-KABJWQBy"
      },
      "source": [
        "# Ex 7: Greet many times.\n",
        "Write a program that generates a random number between 1 and 10 and prints your name that many times."
      ]
    },
    {
      "cell_type": "code",
      "execution_count": null,
      "metadata": {
        "id": "xzHJFvg8WQBy",
        "outputId": "8f71c08c-236e-4b79-97e8-e173676016ec",
        "colab": {
          "base_uri": "https://localhost:8080/"
        }
      },
      "outputs": [
        {
          "output_type": "stream",
          "name": "stdout",
          "text": [
            "Enter your name: Ohnmar \n",
            "Ohnmar Ohnmar \n"
          ]
        }
      ],
      "source": [
        "times = randint(1,10)\n",
        "name = input(\"Enter your name: \")\n",
        "print(times * name)"
      ]
    },
    {
      "cell_type": "markdown",
      "metadata": {
        "id": "WN1XzIa1WQBy"
      },
      "source": [
        "# Ex 8: Computing.\n",
        "Write a program that asks the user to enter two numbers, x and y, and computes |x-y|/(x+y)."
      ]
    },
    {
      "cell_type": "code",
      "execution_count": null,
      "metadata": {
        "id": "GqE0z_asWQBy",
        "outputId": "203d7b76-9421-4835-a3e2-e6915d4e707b",
        "colab": {
          "base_uri": "https://localhost:8080/"
        }
      },
      "outputs": [
        {
          "output_type": "stream",
          "name": "stdout",
          "text": [
            "Enter the first number: 30\n",
            "Enter the second number: 22\n",
            "|x-y|/(x+y):  0.15384615384615385\n"
          ]
        }
      ],
      "source": [
        "x = float(input(\"Enter the first number: \"))\n",
        "y = float(input(\"Enter the second number: \"))\n",
        "result = abs(x-y)/(x+y)\n",
        "print(\"|x-y|/(x+y): \",result)"
      ]
    },
    {
      "cell_type": "markdown",
      "metadata": {
        "id": "mcTELeBsWQBy"
      },
      "source": [
        "# Ex 9: Computing\n",
        "\n",
        "Write a program that asks the user for a number of seconds and prints out how many minutes and seconds that is. For instance, 200 seconds is 3 minutes and 20 seconds."
      ]
    },
    {
      "cell_type": "code",
      "execution_count": null,
      "metadata": {
        "id": "OPCsLF_hWQBy",
        "outputId": "d600be9b-2fd2-4853-bda8-7aea97380556",
        "colab": {
          "base_uri": "https://localhost:8080/"
        }
      },
      "outputs": [
        {
          "output_type": "stream",
          "name": "stdout",
          "text": [
            "Enter a number of seconds: 2000\n",
            "2000 seconds is  33 minutes and 20 seconds.\n"
          ]
        }
      ],
      "source": [
        "total_seconds = int(input(\"Enter a number of seconds: \"))\n",
        "minutes = total_seconds//60\n",
        "seconds = total_seconds%60\n",
        "print(f\"{total_seconds} seconds is  {minutes} minutes and {seconds} seconds.\")"
      ]
    },
    {
      "cell_type": "markdown",
      "metadata": {
        "id": "PvI6sSRgWQBz"
      },
      "source": [
        "# Ex 10: Using Math Module\n",
        "\n",
        "Write a program that asks the user for a number and then prints out the sine, cosine, and tangent of that number."
      ]
    },
    {
      "cell_type": "code",
      "execution_count": null,
      "metadata": {
        "id": "1efLC-8-WQBz",
        "outputId": "f69aaa18-01b5-461e-9f18-6b353e1262f2",
        "colab": {
          "base_uri": "https://localhost:8080/"
        }
      },
      "outputs": [
        {
          "output_type": "stream",
          "name": "stdout",
          "text": [
            "Enter a number:45\n",
            "Sine:  0.7071067811865475\n",
            "Cosine:  0.7071067811865476\n",
            "Tangent:  0.9999999999999999\n"
          ]
        }
      ],
      "source": [
        "import math\n",
        "num = float(input(\"Enter a number:\"))\n",
        "radian = math.radians(num)\n",
        "sine_value = math.sin(radian)\n",
        "cosine_value = math.cos(radian)\n",
        "tangent_value = math.tan(radian)\n",
        "print(\"Sine: \",sine_value)\n",
        "print(\"Cosine: \",cosine_value)\n",
        "print(\"Tangent: \",tangent_value)"
      ]
    },
    {
      "cell_type": "code",
      "source": [],
      "metadata": {
        "id": "1poCvC7vhp6_"
      },
      "execution_count": null,
      "outputs": []
    }
  ],
  "metadata": {
    "colab": {
      "provenance": [],
      "include_colab_link": true
    },
    "kernelspec": {
      "display_name": "Python 3",
      "language": "python",
      "name": "python3"
    },
    "language_info": {
      "codemirror_mode": {
        "name": "ipython",
        "version": 3
      },
      "file_extension": ".py",
      "mimetype": "text/x-python",
      "name": "python",
      "nbconvert_exporter": "python",
      "pygments_lexer": "ipython3",
      "version": "3.12.1"
    }
  },
  "nbformat": 4,
  "nbformat_minor": 0
}