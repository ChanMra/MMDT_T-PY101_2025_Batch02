{
  "cells": [
    {
      "cell_type": "markdown",
      "metadata": {
        "id": "view-in-github",
        "colab_type": "text"
      },
      "source": [
        "<a href=\"https://colab.research.google.com/github/ohnmarnyunt/MMDT_T-PY101_2025_Batch02/blob/main/ohnmarnyunt/Ex02_datatypes.ipynb\" target=\"_parent\"><img src=\"https://colab.research.google.com/assets/colab-badge.svg\" alt=\"Open In Colab\"/></a>"
      ]
    },
    {
      "cell_type": "markdown",
      "metadata": {
        "id": "X_Unw3z9u2-7"
      },
      "source": [
        "Ex 1 : Check the lenght of the string \"My name is python\""
      ]
    },
    {
      "cell_type": "code",
      "execution_count": 1,
      "metadata": {
        "id": "sEW0yan9cL44",
        "outputId": "5307a15b-5de1-45c6-c711-dc20e5cd5d8a",
        "colab": {
          "base_uri": "https://localhost:8080/"
        }
      },
      "outputs": [
        {
          "output_type": "stream",
          "name": "stdout",
          "text": [
            "17\n"
          ]
        }
      ],
      "source": [
        "my_str = \"My name is python\"\n",
        "print(len(my_str))"
      ]
    },
    {
      "cell_type": "markdown",
      "metadata": {
        "id": "HZQVIL61cL44"
      },
      "source": [
        "Ex 2: Check the number of times \"python\" (regardless of cases: PYTHON, python, Python\" appears in the paragraph : \"Floating-point values in Python are always done in double precision; hence, Python float types correspond to doubles in a C-like language.\""
      ]
    },
    {
      "cell_type": "code",
      "execution_count": 3,
      "metadata": {
        "id": "thtzcYoOcL45",
        "outputId": "3dc49549-40fb-43f3-db1b-746e8505115f",
        "colab": {
          "base_uri": "https://localhost:8080/"
        }
      },
      "outputs": [
        {
          "output_type": "execute_result",
          "data": {
            "text/plain": [
              "2"
            ]
          },
          "metadata": {},
          "execution_count": 3
        }
      ],
      "source": [
        "s = \"Floating-point values in Python are always done in double precision; hence, Python float types correspond to doubles in a C-like language.\"\n",
        "s=s.lower()\n",
        "s.count(\"python\")\n"
      ]
    },
    {
      "cell_type": "markdown",
      "metadata": {
        "id": "hbD49eekcL45"
      },
      "source": [
        "Ex 3: Combine two lists : ls1 = [\"apple\", \"banana\", \"cherry\"] and ls2 = [\"apple\", \"banana\", \"cherry\", \"apple\", \"cherry\"]. Print the number of elements in new list."
      ]
    },
    {
      "cell_type": "code",
      "execution_count": 13,
      "metadata": {
        "id": "jeEdDzTMcL45",
        "outputId": "aac914b4-a88a-4074-f0df-9c9c378c1a4d",
        "colab": {
          "base_uri": "https://localhost:8080/"
        }
      },
      "outputs": [
        {
          "output_type": "stream",
          "name": "stdout",
          "text": [
            "8\n"
          ]
        }
      ],
      "source": [
        "ls1=[\"apple\",\"banana\",\"cherry\"]\n",
        "ls2=[\"apple\",\"banana\",\"cherry\",\"apple\",\"cherry\"]\n",
        "ls1.extend(ls2)\n",
        "print(len(ls1))"
      ]
    },
    {
      "cell_type": "markdown",
      "metadata": {
        "id": "_unYUWtVcL45"
      },
      "source": [
        "Ex 4: Create a dictionary for the following table:"
      ]
    },
    {
      "cell_type": "markdown",
      "metadata": {
        "id": "SdZKPeQpcL45"
      },
      "source": [
        "| Name | Age |\n",
        "| --- | --- |\n",
        "| Myo | 32 |\n",
        "| Thida | 64 |"
      ]
    },
    {
      "cell_type": "code",
      "execution_count": 20,
      "metadata": {
        "id": "dWgq0GnqcL46",
        "outputId": "44b3064f-5e1e-442f-e999-d749693543e8",
        "colab": {
          "base_uri": "https://localhost:8080/"
        }
      },
      "outputs": [
        {
          "output_type": "execute_result",
          "data": {
            "text/plain": [
              "{'Myo': 32, 'Thida': 64}"
            ]
          },
          "metadata": {},
          "execution_count": 20
        }
      ],
      "source": [
        "my_dict={\"Myo\":32,\"Thida\":64}\n",
        "my_dict"
      ]
    },
    {
      "cell_type": "markdown",
      "metadata": {
        "id": "J3tDOK4McL46"
      },
      "source": [
        "Ex 5: Combine two sets and print the combined set and its length.\n",
        "set1 = {\"Name\", \"age\", \"Height\"}\n",
        "set2 = {\"Name\", \"status\", \"Education\"}"
      ]
    },
    {
      "cell_type": "code",
      "execution_count": 22,
      "metadata": {
        "id": "3QEqS2ZhcL46",
        "outputId": "89440473-6c39-4009-d4be-dd679728b004",
        "colab": {
          "base_uri": "https://localhost:8080/"
        }
      },
      "outputs": [
        {
          "output_type": "stream",
          "name": "stdout",
          "text": [
            "The combined set is {'Status', 'Education', 'Age', 'Height', 'Name'}. Its lenght is 5\n"
          ]
        }
      ],
      "source": [
        "set1={\"Name\",\"Age\",\"Height\"}\n",
        "set2={\"Name\",\"Status\",\"Education\"}\n",
        "set3=set1.union(set2)\n",
        "print(\"The combined set is {}. Its lenght is {}\".format(set3,len(set3)))"
      ]
    },
    {
      "cell_type": "markdown",
      "metadata": {
        "id": "WiY9oPITcL46"
      },
      "source": [
        "Ex 6: Write a program that asks the user to enter a string. The program should create a new string called new_string from the user's string such that the second character is changed to an asterisk and three exclamation points are attached to the end of the string. Finally, print new_string."
      ]
    },
    {
      "cell_type": "code",
      "execution_count": 38,
      "metadata": {
        "id": "6P7DkpQqcL46",
        "outputId": "c02c91d4-daaf-463d-a3c8-63ce71162224",
        "colab": {
          "base_uri": "https://localhost:8080/"
        }
      },
      "outputs": [
        {
          "output_type": "stream",
          "name": "stdout",
          "text": [
            "Enter a string: Ohnmar Nyunt\n",
            "New String is O*nmar Nyunt!!!\n"
          ]
        }
      ],
      "source": [
        "new_string = input(\"Enter a string: \")\n",
        "new_string=new_string.replace(new_string[1],\"*\")\n",
        "print(\"New String is \"+new_string+\"!!!\")"
      ]
    },
    {
      "cell_type": "markdown",
      "metadata": {
        "id": "rYR6Aa8ccL46"
      },
      "source": [
        "Ex 7: Write a program that converts the given string 's' to lowercase, removes all Punctuation marks such as period, hyphen, and commas from 's', and prints the resulting string."
      ]
    },
    {
      "cell_type": "code",
      "execution_count": 56,
      "metadata": {
        "id": "37elQzEEcL46",
        "outputId": "85043e44-5d98-4271-cfe4-55cb5fbc1608",
        "colab": {
          "base_uri": "https://localhost:8080/"
        }
      },
      "outputs": [
        {
          "output_type": "stream",
          "name": "stdout",
          "text": [
            "floatingpoint values in python are always done in double precision hence python float types correspond to doubles in a clike language\n"
          ]
        }
      ],
      "source": [
        "s = \"Floating-point values in Python are always done in double precision; hence, Python float types correspond to doubles in a C-like language.\"\n",
        "s=s.lower()\n",
        "s=s.replace(\"-\",\"\")\n",
        "s=s.replace(\";\",\"\")\n",
        "s=s.replace(\",\",\"\")\n",
        "s=s.replace(\".\",\"\")\n",
        "s=s.replace(\"\\\"\",\"\")\n",
        "print(s)"
      ]
    },
    {
      "cell_type": "markdown",
      "metadata": {
        "id": "u-olWE5_cL46"
      },
      "source": [
        "Ex 8: L1 and L2 should be identical. Write a program that finds the missing number in L2."
      ]
    },
    {
      "cell_type": "code",
      "execution_count": 68,
      "metadata": {
        "id": "VGdIbq1wcL47",
        "outputId": "733309b5-32b4-4481-96f6-3e611427de64",
        "colab": {
          "base_uri": "https://localhost:8080/"
        }
      },
      "outputs": [
        {
          "output_type": "stream",
          "name": "stdout",
          "text": [
            "L1:  [1, 2, 3, 4, 5, 6, 7, 8, 9, 10, 11, 12, 13, 14, 15, 16, 17, 18, 19, 20, 21, 22, 23, 24, 25, 26, 27, 28, 29, 30, 31, 32, 33, 34, 35, 36, 37, 38, 39, 40, 41, 42, 43, 44, 45, 46, 47, 48, 49, 50, 51, 52, 53, 54, 55, 56, 57, 58, 59, 60, 61, 62, 63, 64, 65, 66, 67, 68, 69, 70, 71, 72, 73, 74, 75, 76, 77, 78, 79, 80, 81, 82, 83, 84, 85, 86, 87, 88, 89, 90, 91, 92, 93, 94, 95, 96, 97, 98, 99, 100]\n",
            "L2:  [1, 2, 3, 4, 5, 6, 7, 8, 9, 10, 11, 12, 13, 14, 15, 16, 17, 18, 19, 20, 22, 23, 24, 25, 26, 27, 28, 29, 30, 31, 32, 33, 34, 35, 36, 37, 38, 39, 40, 41, 42, 43, 44, 45, 46, 47, 48, 49, 50, 51, 52, 53, 54, 55, 56, 57, 58, 59, 60, 61, 62, 63, 64, 65, 66, 67, 68, 69, 70, 71, 72, 73, 74, 75, 76, 77, 78, 79, 80, 81, 82, 83, 84, 85, 86, 87, 88, 89, 90, 91, 92, 93, 94, 95, 96, 97, 98, 99, 100]\n",
            "The missing number in L2 is  {21}\n"
          ]
        }
      ],
      "source": [
        "from random import randint\n",
        "L1 = list(range(1,101))\n",
        "L2 = L1.copy()\n",
        "L2.remove(randint(1,101))\n",
        "print(\"L1: \",L1)\n",
        "print(\"L2: \",L2)\n",
        "set1=set(L1)\n",
        "set2=set(L2)\n",
        "\n",
        "new_set=set1.difference(set2)\n",
        "print(\"The missing number in L2 is \",new_set)"
      ]
    },
    {
      "cell_type": "markdown",
      "metadata": {
        "id": "jEsvBsDrcL47"
      },
      "source": [
        "Ex 9: Write a program to copy the ls1 = [\"apple\", \"banana\", \"cherry\"] to a new list. Add the element \"blueberry\" to the new list, but keep the original list the same."
      ]
    },
    {
      "cell_type": "code",
      "execution_count": 69,
      "metadata": {
        "id": "yEXpni1acL47",
        "outputId": "555e47a1-0f04-430d-a06a-13a5b5847c41",
        "colab": {
          "base_uri": "https://localhost:8080/"
        }
      },
      "outputs": [
        {
          "output_type": "stream",
          "name": "stdout",
          "text": [
            "Original list is  ['apple', 'banana', 'cherry']\n",
            "New list is  ['apple', 'banana', 'cherry', 'blueberry']\n"
          ]
        }
      ],
      "source": [
        "ls1=[\"apple\",\"banana\",\"cherry\"]\n",
        "new_list=ls1.copy()\n",
        "new_list.append(\"blueberry\")\n",
        "print(\"Original list is \",ls1)\n",
        "print(\"New list is \",new_list)"
      ]
    },
    {
      "cell_type": "code",
      "source": [],
      "metadata": {
        "id": "_CWnuayLrNGw"
      },
      "execution_count": null,
      "outputs": []
    }
  ],
  "metadata": {
    "colab": {
      "name": "Ex_2_datatypes.ipynb",
      "provenance": [],
      "include_colab_link": true
    },
    "kernelspec": {
      "display_name": "Python 3",
      "language": "python",
      "name": "python3"
    },
    "language_info": {
      "codemirror_mode": {
        "name": "ipython",
        "version": 3
      },
      "file_extension": ".py",
      "mimetype": "text/x-python",
      "name": "python",
      "nbconvert_exporter": "python",
      "pygments_lexer": "ipython3",
      "version": "3.12.1"
    }
  },
  "nbformat": 4,
  "nbformat_minor": 0
}