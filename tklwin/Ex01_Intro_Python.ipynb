{
  "cells": [
    {
      "cell_type": "markdown",
      "metadata": {
        "id": "view-in-github",
        "colab_type": "text"
      },
      "source": [
        "<a href=\"https://colab.research.google.com/github/tklwin/MMDT_T-PY101_2025_Batch02/blob/main/tklwin/Ex01_Intro_Python.ipynb\" target=\"_parent\"><img src=\"https://colab.research.google.com/assets/colab-badge.svg\" alt=\"Open In Colab\"/></a>"
      ]
    },
    {
      "cell_type": "markdown",
      "metadata": {
        "id": "thgO68_HZ0Aa"
      },
      "source": [
        "# Introduction"
      ]
    },
    {
      "cell_type": "markdown",
      "metadata": {
        "id": "PIh3i0c_Z_yP"
      },
      "source": [
        "This section introduces the Python Programming uisng Colab. Follow the instructions and complete the exercises."
      ]
    },
    {
      "cell_type": "markdown",
      "metadata": {
        "id": "gCw6SfeFZ78l"
      },
      "source": [
        "# Ex 1 : Check Version"
      ]
    },
    {
      "cell_type": "markdown",
      "metadata": {
        "id": "6Vm-27iLabjm"
      },
      "source": [
        "Using the below cell, Import the required library and check the version of the python in your environment."
      ]
    },
    {
      "cell_type": "code",
      "execution_count": 1,
      "metadata": {
        "id": "PJDYHB4AXVdc",
        "colab": {
          "base_uri": "https://localhost:8080/",
          "height": 35
        },
        "outputId": "b33d2c88-3a62-4e9e-8852-d2967cc2082f"
      },
      "outputs": [
        {
          "output_type": "execute_result",
          "data": {
            "text/plain": [
              "'3.12.11 (main, Jun  4 2025, 08:56:18) [GCC 11.4.0]'"
            ],
            "application/vnd.google.colaboratory.intrinsic+json": {
              "type": "string"
            }
          },
          "metadata": {},
          "execution_count": 1
        }
      ],
      "source": [
        "import sys\n",
        "sys.version"
      ]
    },
    {
      "cell_type": "markdown",
      "metadata": {
        "id": "5qTEiwGlawf5"
      },
      "source": [
        "# Ex2 : Convert Currency."
      ]
    },
    {
      "cell_type": "markdown",
      "metadata": {
        "id": "XH8K1p0ypVCg"
      },
      "source": [
        "Write a program that asks the user for the amount in usd and converts it to British pounds. The exchange rate is from usd to BP is given as 0.82"
      ]
    },
    {
      "cell_type": "code",
      "execution_count": 3,
      "metadata": {
        "colab": {
          "base_uri": "https://localhost:8080/"
        },
        "id": "x9xQXOnRa0MS",
        "outputId": "ed6ba510-cc0f-4b13-e28e-4fee16d0231e"
      },
      "outputs": [
        {
          "output_type": "stream",
          "name": "stdout",
          "text": [
            "Enter USD:23\n",
            "23 USD is equivalent to 18.86 British Pound\n"
          ]
        }
      ],
      "source": [
        "usd = int(input(\"Enter USD:\"))\n",
        "bp = usd*0.82\n",
        "print(\"{} USD is equivalent to {} British Pound\".format(usd,bp))"
      ]
    },
    {
      "cell_type": "markdown",
      "metadata": {
        "id": "ePfECwUIpli4"
      },
      "source": [
        "# Ex 3: Temperature Converter"
      ]
    },
    {
      "cell_type": "markdown",
      "metadata": {
        "id": "Y60hUWDsp3pK"
      },
      "source": [
        "Write a program that convert temperature in Feranhite to celsius."
      ]
    },
    {
      "cell_type": "code",
      "execution_count": 5,
      "metadata": {
        "id": "G9PbO6qPoUfn",
        "colab": {
          "base_uri": "https://localhost:8080/"
        },
        "outputId": "801927de-2f20-4460-9c85-8e886c19cff7"
      },
      "outputs": [
        {
          "output_type": "stream",
          "name": "stdout",
          "text": [
            "Enter temperature in Feranhite:43\n",
            "43 Feranhite is equivalent to 6.111111111111112 in Celsius\n"
          ]
        }
      ],
      "source": [
        "ferhanhite = int(input(\"Enter temperature in Feranhite:\"))\n",
        "celsius = 5/9 * (ferhanhite - 32)\n",
        "print(\"{} Feranhite is equivalent to {} in Celsius\".format(ferhanhite,celsius))"
      ]
    },
    {
      "cell_type": "markdown",
      "metadata": {
        "id": "a2kNRO9Vp7Qz"
      },
      "source": [
        "# Ex 4: Daily Maths"
      ]
    },
    {
      "cell_type": "markdown",
      "metadata": {
        "id": "lItKon9qqEUn"
      },
      "source": [
        "You are working in a retail shop. Write a program that computes the total cost for a customer that bought 3 differnt types of fruits : apple, orange, mango. Ask the user to enter the quantity and price for each type."
      ]
    },
    {
      "cell_type": "code",
      "execution_count": 6,
      "metadata": {
        "id": "mIQFjH6wqDma",
        "colab": {
          "base_uri": "https://localhost:8080/"
        },
        "outputId": "fd1bc3d9-75be-46c4-c3c8-10c9a8987c32"
      },
      "outputs": [
        {
          "output_type": "stream",
          "name": "stdout",
          "text": [
            "Enter quantity of apple:2\n",
            "Enter price of apple:23\n",
            "Enter quantity of orange:4\n",
            "Enter price of orange:12\n",
            "Enter quantity of mango:4\n",
            "Enter price of mango:33\n",
            "Total Cost is 226\n"
          ]
        }
      ],
      "source": [
        "apple = int(input(\"Enter quantity of apple:\"))\n",
        "apple_price = int(input(\"Enter price of apple:\"))\n",
        "orange = int(input(\"Enter quantity of orange:\"))\n",
        "orange_price = int(input(\"Enter price of orange:\"))\n",
        "mango = int(input(\"Enter quantity of mango:\"))\n",
        "mango_price = int(input(\"Enter price of mango:\"))\n",
        "total_cost = apple*apple_price + orange*orange_price + mango*mango_price\n",
        "print(\"Total Cost is \"+str(total_cost))"
      ]
    },
    {
      "cell_type": "markdown",
      "metadata": {
        "id": "31fXlmEQqgvW"
      },
      "source": [
        "# Ex 5 : Greeting"
      ]
    },
    {
      "cell_type": "markdown",
      "metadata": {
        "id": "zvnmj8MGrJIw"
      },
      "source": [
        "Write a program to greet the customer who provides the user name. Your program should ask the name of the customer and print \"Hello + customer name\""
      ]
    },
    {
      "cell_type": "code",
      "execution_count": 8,
      "metadata": {
        "id": "Z6ynxZMarIXh",
        "colab": {
          "base_uri": "https://localhost:8080/"
        },
        "outputId": "f2152be5-b1ee-4689-dc7f-710c92732256"
      },
      "outputs": [
        {
          "output_type": "stream",
          "name": "stdout",
          "text": [
            "Enter your name:Thein\n",
            "Hello Thein\n"
          ]
        }
      ],
      "source": [
        "user_name = input(\"Enter your name:\")\n",
        "print(\"Hello \" + user_name)"
      ]
    },
    {
      "cell_type": "markdown",
      "metadata": {
        "id": "LF748x6AXwX1"
      },
      "source": [
        "# Ex 6: Random Number\n",
        "Write a program that generates a random number, x, between 1 and 50, a random number y between 2 and 5, and computes x^y."
      ]
    },
    {
      "cell_type": "code",
      "execution_count": 12,
      "metadata": {
        "colab": {
          "base_uri": "https://localhost:8080/"
        },
        "id": "yKr-hsKsXwX2",
        "outputId": "6912d21f-0a52-47e9-e64d-42e94c159824"
      },
      "outputs": [
        {
          "output_type": "stream",
          "name": "stdout",
          "text": [
            "random number of x is 10 and random number of y is 3 and the computation result of x^y is 1000\n"
          ]
        }
      ],
      "source": [
        "from random import randint\n",
        "x = randint(1,50)\n",
        "y = randint(2,5)\n",
        "result = x**y\n",
        "print(\"random number of x is {} and random number of y is {} and the computation result of x^y is {}\".format(x,y,result))"
      ]
    },
    {
      "cell_type": "markdown",
      "metadata": {
        "id": "ie9vC12qXwX2"
      },
      "source": [
        "# Ex 7: Greet many times.\n",
        "Write a program that generates a random number between 1 and 10 and prints your name that many times."
      ]
    },
    {
      "cell_type": "code",
      "execution_count": 17,
      "metadata": {
        "colab": {
          "base_uri": "https://localhost:8080/"
        },
        "id": "oPOe8ybDXwX2",
        "outputId": "6f14ab2c-c08a-4031-c35e-af822244db1c"
      },
      "outputs": [
        {
          "output_type": "stream",
          "name": "stdout",
          "text": [
            "mingalarbar mingalarbar mingalarbar mingalarbar mingalarbar \n"
          ]
        }
      ],
      "source": [
        "from random import randint\n",
        "hello = \"mingalarbar \"\n",
        "time = randint(1,10)\n",
        "print(time * hello)"
      ]
    },
    {
      "cell_type": "markdown",
      "metadata": {
        "id": "ZlenVDmqXwX2"
      },
      "source": [
        "# Ex 8: Computing.\n",
        "Write a program that asks the user to enter two numbers, x and y, and computes |x-y|/(x+y)."
      ]
    },
    {
      "cell_type": "code",
      "execution_count": 18,
      "metadata": {
        "colab": {
          "base_uri": "https://localhost:8080/"
        },
        "id": "XR5Q0CRuXwX2",
        "outputId": "78c2cb3c-d512-4b8a-edb6-9c11ba994d75"
      },
      "outputs": [
        {
          "output_type": "stream",
          "name": "stdout",
          "text": [
            "Enter number for x:2\n",
            "Enter number for y:3\n",
            "random number of x is 2 and random number of y is 3 and the computation result of |x-y|/(x+y) is 0.2\n"
          ]
        }
      ],
      "source": [
        "x = int(input(\"Enter number for x:\"))\n",
        "y = int(input(\"Enter number for y:\"))\n",
        "result = abs(x-y) / (x+y)\n",
        "print(\"random number of x is {} and random number of y is {} and the computation result of |x-y|/(x+y) is {}\".format(x,y,result))"
      ]
    },
    {
      "cell_type": "markdown",
      "metadata": {
        "id": "pcc7wCebXwX2"
      },
      "source": [
        "# Ex 9: Computing\n",
        "\n",
        "Write a program that asks the user for a number of seconds and prints out how many minutes and seconds that is. For instance, 200 seconds is 3 minutes and 20 seconds."
      ]
    },
    {
      "cell_type": "code",
      "execution_count": 25,
      "metadata": {
        "colab": {
          "base_uri": "https://localhost:8080/"
        },
        "id": "72ZGQrcNXwX2",
        "outputId": "ad791fbe-a0eb-420c-8359-5c5a3630ad15"
      },
      "outputs": [
        {
          "output_type": "stream",
          "name": "stdout",
          "text": [
            "Enter number of seconds:130\n",
            "130 seconds is 2 minutes and 10 seconds\n"
          ]
        }
      ],
      "source": [
        "seconds = int(input(\"Enter number of seconds:\"))\n",
        "result_minute = seconds//60\n",
        "result_seconds = seconds%60\n",
        "\n",
        "print (\"{} seconds is {} minutes and {} seconds\".format(seconds, result_minute, result_seconds))"
      ]
    },
    {
      "cell_type": "markdown",
      "metadata": {
        "id": "IuSEXHwhXwX2"
      },
      "source": [
        "# Ex 10: Using Math Module\n",
        "\n",
        "Write a program that asks the user for a number and then prints out the sine, cosine, and tangent of that number."
      ]
    },
    {
      "cell_type": "code",
      "execution_count": 26,
      "metadata": {
        "colab": {
          "base_uri": "https://localhost:8080/"
        },
        "id": "EoLijBAoXwX2",
        "outputId": "5ca30937-669b-4ea5-eecd-9abab380f1de"
      },
      "outputs": [
        {
          "output_type": "stream",
          "name": "stdout",
          "text": [
            "Enter a number:2\n",
            "Sine is 0.9092974268256817 , Cosine is -0.4161468365471424 , Tangent is -2.185039863261519\n"
          ]
        }
      ],
      "source": [
        "import math\n",
        "num = float(input(\"Enter a number:\"))\n",
        "sine_value = math.sin(num)\n",
        "cosine_value = math.cos(num)\n",
        "tangent_value = math.tan(num)\n",
        "print(\"Sine is {} , Cosine is {} , Tangent is {}\".format(sine_value, cosine_value, tangent_value))\n"
      ]
    }
  ],
  "metadata": {
    "colab": {
      "name": "Ex1_Python.ipynb",
      "provenance": [],
      "include_colab_link": true
    },
    "kernelspec": {
      "display_name": "Python 3",
      "language": "python",
      "name": "python3"
    },
    "language_info": {
      "codemirror_mode": {
        "name": "ipython",
        "version": 3
      },
      "file_extension": ".py",
      "mimetype": "text/x-python",
      "name": "python",
      "nbconvert_exporter": "python",
      "pygments_lexer": "ipython3",
      "version": "3.12.1"
    }
  },
  "nbformat": 4,
  "nbformat_minor": 0
}