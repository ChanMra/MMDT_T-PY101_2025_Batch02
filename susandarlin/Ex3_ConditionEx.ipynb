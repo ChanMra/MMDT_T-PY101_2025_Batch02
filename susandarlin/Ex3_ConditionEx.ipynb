{
  "nbformat": 4,
  "nbformat_minor": 0,
  "metadata": {
    "colab": {
      "provenance": [],
      "include_colab_link": true
    },
    "kernelspec": {
      "name": "python3",
      "display_name": "Python 3"
    },
    "language_info": {
      "name": "python"
    }
  },
  "cells": [
    {
      "cell_type": "markdown",
      "metadata": {
        "id": "view-in-github",
        "colab_type": "text"
      },
      "source": [
        "<a href=\"https://colab.research.google.com/github/susandarlin/MMDT_T-PY101_2025_Batch02/blob/main/susandarlin/Ex3_ConditionEx.ipynb\" target=\"_parent\"><img src=\"https://colab.research.google.com/assets/colab-badge.svg\" alt=\"Open In Colab\"/></a>"
      ]
    },
    {
      "cell_type": "markdown",
      "source": [
        "Write a program that asks the user to enter a length in centimeters. If the user enters a negative length, the program should tell the user that the entry is invalid. Otherwise, the program should convert the length to inches and print out the result. There are 2.54 centimeters in an inch.\n"
      ],
      "metadata": {
        "id": "r9njLbxcvG0w"
      }
    },
    {
      "cell_type": "code",
      "source": [
        "inputLength = input(\"Enter Length in centimeter\")\n",
        "length = float(inputLength)\n",
        "if(length < 0):\n",
        "  print(\"The entry is invalid\")\n",
        "else:\n",
        "  inches = length/2.54\n",
        "  print(\"{} Lenght in centimeter is equal to {} inches\".format(length,inches))"
      ],
      "metadata": {
        "id": "76EFWr1AvMy4",
        "colab": {
          "base_uri": "https://localhost:8080/"
        },
        "outputId": "eeaa3579-9b18-43b8-f1c6-8c3373b94ff5"
      },
      "execution_count": 4,
      "outputs": [
        {
          "output_type": "stream",
          "name": "stdout",
          "text": [
            "Enter Length in centimeter2.54\n",
            "2.54 Lenght in centimeter is equal to 1.0 inches\n"
          ]
        }
      ]
    },
    {
      "cell_type": "markdown",
      "source": [
        "Ask the user to enter a temperature in Celsius. The program should print a message based on the temperature:\n",
        "\n",
        "*   If the temperature is less than -273.15, print that the temperature is invalid because it is below absolute zero.\n",
        "*   If it is exactly -273.15, print that the temperature is absolute 0.\n",
        "*   If the temperature is between -273.15 and 0, print that the temperature is below freezing.\n",
        "*   If it is 0, print that the temperature is at the freezing point.\n",
        "*   If it is between 0 and 100, print that the temperature is in the normal range.\n",
        "*   If it is 100, print that the temperature is at the boiling point.\n",
        "*   If it is above 100, print that the temperature is above the boiling point."
      ],
      "metadata": {
        "id": "zvaDTmuhvNWJ"
      }
    },
    {
      "cell_type": "code",
      "source": [
        "inputTemp = input(\"Enter a temperature in Celsius.\")\n",
        "temp = float(inputTemp)\n",
        "\n",
        "if(temp < -273.15):\n",
        "  print(\"Temperature is invalid.\")\n",
        "elif(temp == -273.15):\n",
        "  print(\"Temperature is absolute zero.\")\n",
        "elif(temp > -273.15 and temp < 0):\n",
        "  print(\"Temperature is below freezing.\")\n",
        "elif(temp == 0):\n",
        "  print(\"Temperature is at the freezing point.\")\n",
        "elif(temp > 0 and temp < 100):\n",
        "  print(\"Temperature is in the normal range.\")\n",
        "elif(temp == 100):\n",
        "  print(\"Temperature is at the boiling point.\")\n",
        "else:\n",
        "  print(\"Temperature is above the boiling point.\")"
      ],
      "metadata": {
        "id": "UiCbUIcwvqxO",
        "colab": {
          "base_uri": "https://localhost:8080/"
        },
        "outputId": "e2be50ed-b812-4d70-967c-8f89f0145811"
      },
      "execution_count": 10,
      "outputs": [
        {
          "output_type": "stream",
          "name": "stdout",
          "text": [
            "Enter a temperature in Celsius.192\n",
            "Temperature is above the boiling point.\n"
          ]
        }
      ]
    },
    {
      "cell_type": "markdown",
      "source": [
        "Write a program that asks the user how many credits they have taken. If they have taken 23 or less, print that the student is a freshman. If they have taken between 24 and 53, print that they are a sophomore. The range for juniors is 54 to 83, and for seniors it is 84 and over."
      ],
      "metadata": {
        "id": "hoczytNLvrnd"
      }
    },
    {
      "cell_type": "code",
      "source": [
        "inputCredit = input(\"Enter your credits\")\n",
        "credit = int(inputCredit)\n",
        "\n",
        "if(credit <= 23):\n",
        "  print(\"Freshman\")\n",
        "elif(credit >= 24 and credit <= 53):\n",
        "  print(\"Sophomore.\")\n",
        "elif(credit >= 54 and credit <= 83):\n",
        "  print(\"Junior\")\n",
        "else:\n",
        "  print(\"Senior\")"
      ],
      "metadata": {
        "id": "r8_O-_zLvurf",
        "colab": {
          "base_uri": "https://localhost:8080/"
        },
        "outputId": "53766126-d385-4a2f-dcff-e3904bef4168"
      },
      "execution_count": 19,
      "outputs": [
        {
          "output_type": "stream",
          "name": "stdout",
          "text": [
            "Enter your credits83\n",
            "Junior\n"
          ]
        }
      ]
    }
  ]
}