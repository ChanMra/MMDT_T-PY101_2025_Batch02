{
  "cells": [
    {
      "cell_type": "markdown",
      "metadata": {
        "id": "view-in-github",
        "colab_type": "text"
      },
      "source": [
        "<a href=\"https://colab.research.google.com/github/susandarlin/MMDT_T-PY101_2025_Batch02/blob/main/susandarlin/Ex_2_datatypes.ipynb\" target=\"_parent\"><img src=\"https://colab.research.google.com/assets/colab-badge.svg\" alt=\"Open In Colab\"/></a>"
      ]
    },
    {
      "cell_type": "markdown",
      "metadata": {
        "id": "X_Unw3z9u2-7"
      },
      "source": [
        "Ex 1 : Check the lenght of the string \"My name is python\""
      ]
    },
    {
      "cell_type": "code",
      "execution_count": null,
      "metadata": {
        "id": "cnk-njQxtgwy",
        "outputId": "469cd91a-9225-4f6a-8795-03b2188eb822",
        "colab": {
          "base_uri": "https://localhost:8080/"
        }
      },
      "outputs": [
        {
          "output_type": "execute_result",
          "data": {
            "text/plain": [
              "17"
            ]
          },
          "metadata": {},
          "execution_count": 1
        }
      ],
      "source": [
        "len(\"My name is python\")"
      ]
    },
    {
      "cell_type": "markdown",
      "metadata": {
        "id": "9Cac1hoHtgwz"
      },
      "source": [
        "Ex 2: Check the number of times \"python\" (regardless of cases: PYTHON, python, Python\" appears in the paragraph : \"Floating-point values in Python are always done in double precision; hence, Python float types correspond to doubles in a C-like language.\""
      ]
    },
    {
      "cell_type": "code",
      "execution_count": null,
      "metadata": {
        "id": "2O503eoztgw0",
        "colab": {
          "base_uri": "https://localhost:8080/"
        },
        "outputId": "66cb8958-0882-4aee-bd7e-63321d27b4a8"
      },
      "outputs": [
        {
          "output_type": "stream",
          "name": "stdout",
          "text": [
            "2 times\n"
          ]
        }
      ],
      "source": [
        "s = \"Floating-point values in Python are always done in double precision; hence, Python float types correspond to doubles in a C-like language.\"\n",
        "count = s.lower().count(\"python\")\n",
        "print(count, 'times')"
      ]
    },
    {
      "cell_type": "markdown",
      "metadata": {
        "id": "kGXiFfTXtgw3"
      },
      "source": [
        "Ex 3: Combine two lists : ls1 = [\"apple\", \"banana\", \"cherry\"] and ls2 = [\"apple\", \"banana\", \"cherry\", \"apple\", \"cherry\"]. Print the number of elements in new list."
      ]
    },
    {
      "cell_type": "code",
      "execution_count": null,
      "metadata": {
        "id": "Z5-4EqpWtgw4",
        "colab": {
          "base_uri": "https://localhost:8080/"
        },
        "outputId": "567d9387-503d-4c11-a23b-70b34e186edb"
      },
      "outputs": [
        {
          "output_type": "stream",
          "name": "stdout",
          "text": [
            "8\n"
          ]
        }
      ],
      "source": [
        "ls1 = [\"apple\", \"banana\", \"cherry\"]\n",
        "ls2 = [\"apple\", \"banana\", \"cherry\", \"apple\", \"cherry\"]\n",
        "newlist = ls1 + ls2\n",
        "print(len(newlist))"
      ]
    },
    {
      "cell_type": "markdown",
      "metadata": {
        "id": "BbYftNQQtgw5"
      },
      "source": [
        "Ex 4: Create a dictionary for the following table:"
      ]
    },
    {
      "cell_type": "markdown",
      "metadata": {
        "id": "XX0wlWa1tgw6"
      },
      "source": [
        "| Name | Age |\n",
        "| --- | --- |\n",
        "| Myo | 32 |\n",
        "| Thida | 64 |"
      ]
    },
    {
      "cell_type": "code",
      "execution_count": null,
      "metadata": {
        "id": "Hj6zMCGRtgw7",
        "colab": {
          "base_uri": "https://localhost:8080/"
        },
        "outputId": "3af8613f-99b9-4889-b4cd-8dd1b7f7fbf9"
      },
      "outputs": [
        {
          "output_type": "stream",
          "name": "stdout",
          "text": [
            "{'Name': ['Myo', 'Thida'], 'Age': [32, 64]}\n"
          ]
        }
      ],
      "source": [
        "dic = {\"Name\": [\"Myo\", \"Thida\"], \"Age\": [32,64]}\n",
        "print(dic)"
      ]
    },
    {
      "cell_type": "markdown",
      "metadata": {
        "id": "cQsHzdB0tgw7"
      },
      "source": [
        "Ex 5: Combine two sets and print the combined set and its length.\n",
        "set1 = {\"Name\", \"age\", \"Height\"}\n",
        "set2 = {\"Name\", \"status\", \"Education\"}"
      ]
    },
    {
      "cell_type": "code",
      "execution_count": null,
      "metadata": {
        "id": "n7q0VOZ8tgw8",
        "colab": {
          "base_uri": "https://localhost:8080/"
        },
        "outputId": "1c563e9f-ba18-418c-e2aa-748796ffcfcc"
      },
      "outputs": [
        {
          "output_type": "stream",
          "name": "stdout",
          "text": [
            "{'Education', 'Name', 'Height', 'status', 'age'} , Its count is  5\n"
          ]
        }
      ],
      "source": [
        "set1 = {\"Name\", \"age\", \"Height\"}\n",
        "set2 = {\"Name\", \"status\", \"Education\"}\n",
        "set3 = set1.union(set2)\n",
        "print(set3, \", Its count is \", len(set3))"
      ]
    },
    {
      "cell_type": "markdown",
      "metadata": {
        "id": "-wGhF3Tbtgw8"
      },
      "source": [
        "Ex 6: Write a program that asks the user to enter a string. The program should create a new string called new_string from the user's string such that the second character is changed to an asterisk and three exclamation points are attached to the end of the string. Finally, print new_string."
      ]
    },
    {
      "cell_type": "code",
      "execution_count": null,
      "metadata": {
        "id": "GsnNv9dttgw9",
        "colab": {
          "base_uri": "https://localhost:8080/"
        },
        "outputId": "434c744e-91c0-4971-9bfa-20bdadbb9009"
      },
      "outputs": [
        {
          "output_type": "stream",
          "name": "stdout",
          "text": [
            "Enter a stringtest\n",
            "t*st!!!\n"
          ]
        }
      ],
      "source": [
        "input_string = input(\"Enter a string\")\n",
        "new_string = input_string.replace(input_string[1], \"*\") + \"!!!\"\n",
        "print(new_string)"
      ]
    },
    {
      "cell_type": "markdown",
      "metadata": {
        "id": "WnS-zPKHtgw9"
      },
      "source": [
        "Ex 7: Write a program that converts the given string 's' to lowercase, removes all Punctuation marks such as period, hyphen, and commas from 's', and prints the resulting string."
      ]
    },
    {
      "cell_type": "code",
      "execution_count": null,
      "metadata": {
        "id": "U58d8E2Itgw9",
        "colab": {
          "base_uri": "https://localhost:8080/"
        },
        "outputId": "89c3a02a-b0a3-4dbc-dfdb-9520d1edbb4d"
      },
      "outputs": [
        {
          "output_type": "stream",
          "name": "stdout",
          "text": [
            "floatingpoint values in python are always done in double precision hence python float types correspond to doubles in a clike language\n"
          ]
        }
      ],
      "source": [
        "s = \"Floating-point values in Python are always done in double precision; hence, Python float types correspond to doubles in a C-like language.\"\n",
        "new_string = s.lower().replace(\",\", \"\").replace(\";\", \"\").replace(\".\", \"\").replace(\":\", \"\").replace(\"-\", \"\")\n",
        "print(new_string)"
      ]
    },
    {
      "cell_type": "markdown",
      "metadata": {
        "id": "qrUqjxl3tgw-"
      },
      "source": [
        "Ex 8: L1 and L2 should be identical. Write a program that finds the missing number in L2."
      ]
    },
    {
      "cell_type": "code",
      "execution_count": null,
      "metadata": {
        "id": "pGhxiVg0tgw-",
        "colab": {
          "base_uri": "https://localhost:8080/"
        },
        "outputId": "76377556-ae85-47ca-f940-54c6ef08e238"
      },
      "outputs": [
        {
          "output_type": "stream",
          "name": "stdout",
          "text": [
            "{70}\n"
          ]
        }
      ],
      "source": [
        "from random import randint\n",
        "L1 = list(range(1,101))\n",
        "L2 = L1.copy()\n",
        "L2.remove(randint(1,101))\n",
        "L3 = set(L1).difference(set(L2))\n",
        "print(L3)\n"
      ]
    },
    {
      "cell_type": "markdown",
      "metadata": {
        "id": "QxKF0jlttgw-"
      },
      "source": [
        "Ex 9: Write a program to copy the ls1 = [\"apple\", \"banana\", \"cherry\"] to a new list. Add the element \"blueberry\" to the new list, but keep the original list the same."
      ]
    },
    {
      "cell_type": "code",
      "execution_count": 9,
      "metadata": {
        "id": "8KSqFGSctgw_",
        "colab": {
          "base_uri": "https://localhost:8080/"
        },
        "outputId": "a154d0a9-98f1-4462-a167-f61c5f0f2c2e"
      },
      "outputs": [
        {
          "output_type": "stream",
          "name": "stdout",
          "text": [
            "ls1  ['apple', 'banana', 'cherry']\n",
            "new list ['apple', 'banana', 'cherry', 'blueberry']\n"
          ]
        }
      ],
      "source": [
        " ls1 = [\"apple\", \"banana\", \"cherry\"]\n",
        " new_list = ls1.copy()\n",
        " new_list.append(\"blueberry\")\n",
        " print(\"ls1 \", ls1)\n",
        " print((\"new list\"), new_list)"
      ]
    }
  ],
  "metadata": {
    "colab": {
      "provenance": [],
      "include_colab_link": true
    },
    "kernelspec": {
      "display_name": "Python 3",
      "language": "python",
      "name": "python3"
    },
    "language_info": {
      "codemirror_mode": {
        "name": "ipython",
        "version": 3
      },
      "file_extension": ".py",
      "mimetype": "text/x-python",
      "name": "python",
      "nbconvert_exporter": "python",
      "pygments_lexer": "ipython3",
      "version": "3.12.1"
    }
  },
  "nbformat": 4,
  "nbformat_minor": 0
}