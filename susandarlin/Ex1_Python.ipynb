{
  "cells": [
    {
      "cell_type": "markdown",
      "metadata": {
        "id": "view-in-github",
        "colab_type": "text"
      },
      "source": [
        "<a href=\"https://colab.research.google.com/github/susandarlin/MMDT_T-PY101_2025_Batch02/blob/main/susandarlin/Ex1_Python.ipynb\" target=\"_parent\"><img src=\"https://colab.research.google.com/assets/colab-badge.svg\" alt=\"Open In Colab\"/></a>"
      ]
    },
    {
      "cell_type": "markdown",
      "metadata": {
        "id": "thgO68_HZ0Aa"
      },
      "source": [
        "# Introduction"
      ]
    },
    {
      "cell_type": "markdown",
      "metadata": {
        "id": "PIh3i0c_Z_yP"
      },
      "source": [
        "This section introduces the Python Programming uisng Colab. Follow the instructions and complete the exercises."
      ]
    },
    {
      "cell_type": "markdown",
      "metadata": {
        "id": "gCw6SfeFZ78l"
      },
      "source": [
        "# Ex 1 : Check Version"
      ]
    },
    {
      "cell_type": "markdown",
      "metadata": {
        "id": "6Vm-27iLabjm"
      },
      "source": [
        "Using the below cell, Import the required library and check the version of the python in your environment."
      ]
    },
    {
      "cell_type": "code",
      "execution_count": 1,
      "metadata": {
        "id": "PJDYHB4AXVdc",
        "colab": {
          "base_uri": "https://localhost:8080/",
          "height": 34
        },
        "outputId": "b7ce231b-f225-465a-a5bf-4db0a97168a5"
      },
      "outputs": [
        {
          "output_type": "execute_result",
          "data": {
            "text/plain": [
              "'3.12.11 (main, Jun  4 2025, 08:56:18) [GCC 11.4.0]'"
            ],
            "application/vnd.google.colaboratory.intrinsic+json": {
              "type": "string"
            }
          },
          "metadata": {},
          "execution_count": 1
        }
      ],
      "source": [
        "import sys\n",
        "sys.version"
      ]
    },
    {
      "cell_type": "markdown",
      "metadata": {
        "id": "5qTEiwGlawf5"
      },
      "source": [
        "# Ex2 : Convert Currency."
      ]
    },
    {
      "cell_type": "markdown",
      "metadata": {
        "id": "XH8K1p0ypVCg"
      },
      "source": [
        "Write a program that asks the user for the amount in usd and converts it to British pounds. The exchange rate is from usd to BP is given as 0.82"
      ]
    },
    {
      "cell_type": "code",
      "execution_count": 2,
      "metadata": {
        "id": "x9xQXOnRa0MS",
        "outputId": "8af3c56a-f592-4d50-c31f-206cb245e297",
        "colab": {
          "base_uri": "https://localhost:8080/"
        }
      },
      "outputs": [
        {
          "output_type": "stream",
          "name": "stdout",
          "text": [
            "Enter the amount in USD: 100\n",
            "100 usd is equivalent to 82.0 british pound\n"
          ]
        }
      ],
      "source": [
        "usd_amount = input (\"Enter the amount in USD: \")\n",
        "bp_amount = int(usd_amount) *0.82\n",
        "print(\"{} usd is equivalent to {} british pound\".format(usd_amount, bp_amount))"
      ]
    },
    {
      "cell_type": "markdown",
      "metadata": {
        "id": "ePfECwUIpli4"
      },
      "source": [
        "# Ex 3: Temperature Converter"
      ]
    },
    {
      "cell_type": "markdown",
      "metadata": {
        "id": "Y60hUWDsp3pK"
      },
      "source": [
        "Write a program that convert temperature in Feranhite to celsius."
      ]
    },
    {
      "cell_type": "code",
      "execution_count": 3,
      "metadata": {
        "id": "G9PbO6qPoUfn",
        "outputId": "6ca60fe9-87ad-46b8-b5fc-8c0f462e5bac",
        "colab": {
          "base_uri": "https://localhost:8080/"
        }
      },
      "outputs": [
        {
          "output_type": "stream",
          "name": "stdout",
          "text": [
            "Enter temperatre in F: 10\n",
            "10 Feranhite is equal to -12.22 Celsius\n"
          ]
        }
      ],
      "source": [
        "temp_F = input(\"Enter temperatre in F: \")\n",
        "temp_C = (int(temp_F)-32)*5/9\n",
        "\n",
        "print(\"{} Feranhite is equal to {:.2f} Celsius\".format(temp_F, temp_C))"
      ]
    },
    {
      "cell_type": "markdown",
      "metadata": {
        "id": "a2kNRO9Vp7Qz"
      },
      "source": [
        "# Ex 4: Daily Maths"
      ]
    },
    {
      "cell_type": "markdown",
      "metadata": {
        "id": "lItKon9qqEUn"
      },
      "source": [
        "You are working in a retail shop. Write a program that computes the total cost for a customer that bought 3 differnt types of fruits : apple, orange, mango. Ask the user to enter the quantity and price for each type."
      ]
    },
    {
      "cell_type": "code",
      "execution_count": 4,
      "metadata": {
        "id": "mIQFjH6wqDma",
        "outputId": "c4713e0f-c382-4f00-f567-929ec4cbbbcc",
        "colab": {
          "base_uri": "https://localhost:8080/"
        }
      },
      "outputs": [
        {
          "output_type": "stream",
          "name": "stdout",
          "text": [
            "Enter number of apples : 1\n",
            "Enter price per apple : 10\n",
            "Enter number of oranges : 2\n",
            "Enter price per orange : 10\n",
            "Enter number of mangoes : 3\n",
            "Enter price per mango : 20\n",
            "Total cost is :  90\n"
          ]
        }
      ],
      "source": [
        "apple_qty = input(\"Enter number of apples : \")\n",
        "apple_price = input (\"Enter price per apple : \")\n",
        "\n",
        "orange_qty = input(\"Enter number of oranges : \")\n",
        "orange_price = input (\"Enter price per orange : \")\n",
        "\n",
        "mango_qty = input(\"Enter number of mangoes : \")\n",
        "mango_price = input (\"Enter price per mango : \")\n",
        "\n",
        "total_cost = int(apple_qty)*int(apple_price) + int(orange_qty)*int(orange_price) + int(mango_qty)*int(mango_price)\n",
        "print(\"Total cost is : \" , total_cost)"
      ]
    },
    {
      "cell_type": "markdown",
      "metadata": {
        "id": "31fXlmEQqgvW"
      },
      "source": [
        "# Ex 5 : Greeting"
      ]
    },
    {
      "cell_type": "markdown",
      "metadata": {
        "id": "zvnmj8MGrJIw"
      },
      "source": [
        "Write a program to greet the customer who provides the user name. Your program should ask the name of the customer and print \"Hello + customer name\""
      ]
    },
    {
      "cell_type": "code",
      "execution_count": 5,
      "metadata": {
        "id": "Z6ynxZMarIXh",
        "outputId": "5f8f513c-2365-4b2b-8c98-f10be884c3ea",
        "colab": {
          "base_uri": "https://localhost:8080/"
        }
      },
      "outputs": [
        {
          "output_type": "stream",
          "name": "stdout",
          "text": [
            "Enter your name : Su\n",
            "Hello  Su\n"
          ]
        }
      ],
      "source": [
        "customer_name = input(\"Enter your name : \")\n",
        "print(\"Hello \",customer_name)"
      ]
    },
    {
      "cell_type": "markdown",
      "metadata": {
        "id": "nuuuUQ0aXeaI"
      },
      "source": [
        "# Ex 6: Random Number\n",
        "Write a program that generates a random number, x, between 1 and 50, a random number y between 2 and 5, and computes x^y."
      ]
    },
    {
      "cell_type": "code",
      "execution_count": 9,
      "metadata": {
        "id": "z_Xa6CqBXeaI",
        "outputId": "f5ffc8d3-36ab-4a49-c6d0-f282cc323298",
        "colab": {
          "base_uri": "https://localhost:8080/"
        }
      },
      "outputs": [
        {
          "output_type": "stream",
          "name": "stdout",
          "text": [
            "x is :  35\n",
            "y is :  2\n",
            "x^y is :  1225\n"
          ]
        }
      ],
      "source": [
        "from random import randint\n",
        "x = randint(1,50)\n",
        "y = randint(2,5)\n",
        "result = x**y\n",
        "print(\"x is : \", x)\n",
        "print(\"y is : \", y)\n",
        "print(\"x^y is : \", result)"
      ]
    },
    {
      "cell_type": "markdown",
      "metadata": {
        "id": "O-XP_sI5XeaI"
      },
      "source": [
        "# Ex 7: Greet many times.\n",
        "Write a program that generates a random number between 1 and 10 and prints your name that many times."
      ]
    },
    {
      "cell_type": "code",
      "execution_count": 13,
      "metadata": {
        "id": "Si-kNhPjXeaI",
        "outputId": "f650703f-4922-40d1-fa1e-ac3bbfc8e045",
        "colab": {
          "base_uri": "https://localhost:8080/"
        }
      },
      "outputs": [
        {
          "output_type": "stream",
          "name": "stdout",
          "text": [
            "Enter your name : Su\n",
            "Su\n",
            "Su\n",
            "Su\n",
            "Su\n"
          ]
        }
      ],
      "source": [
        "times = randint(1,10)\n",
        "name = input(\"Enter your name : \")\n",
        "for _ in range(times):\n",
        "  print(name)"
      ]
    },
    {
      "cell_type": "markdown",
      "metadata": {
        "id": "tMXPwx67XeaJ"
      },
      "source": [
        "# Ex 8: Computing.\n",
        "Write a program that asks the user to enter two numbers, x and y, and computes |x-y|/(x+y)."
      ]
    },
    {
      "cell_type": "code",
      "execution_count": 15,
      "metadata": {
        "id": "7Dl_pLQDXeaJ",
        "outputId": "fbacde29-f62b-431b-b9f5-7594735a1141",
        "colab": {
          "base_uri": "https://localhost:8080/"
        }
      },
      "outputs": [
        {
          "output_type": "stream",
          "name": "stdout",
          "text": [
            "Enter x value :7\n",
            "Enter y value :3\n",
            "Result is : 0.4\n"
          ]
        }
      ],
      "source": [
        "a = input(\"Enter x value :\")\n",
        "b= input(\"Enter y value :\")\n",
        "x = int(a)\n",
        "y = int(b)\n",
        "\n",
        "result = abs(x-y)/(x+y)\n",
        "print(\"Result is :\",result)"
      ]
    },
    {
      "cell_type": "markdown",
      "metadata": {
        "id": "2nbQtFNDXeaJ"
      },
      "source": [
        "# Ex 9: Computing\n",
        "\n",
        "Write a program that asks the user for a number of seconds and prints out how many minutes and seconds that is. For instance, 200 seconds is 3 minutes and 20 seconds."
      ]
    },
    {
      "cell_type": "code",
      "execution_count": 16,
      "metadata": {
        "id": "6Igl4Uk9XeaJ",
        "outputId": "0a96856e-c199-4183-deee-0a95eced6093",
        "colab": {
          "base_uri": "https://localhost:8080/"
        }
      },
      "outputs": [
        {
          "output_type": "stream",
          "name": "stdout",
          "text": [
            "Enter seconds :200\n",
            "200 seconds is 3 minutes and 20 seconds.\n"
          ]
        }
      ],
      "source": [
        "input_seconds = input(\"Enter seconds :\")\n",
        "minAndSec = int(input_seconds)/60\n",
        "\n",
        "minutes = int(input_seconds)//60\n",
        "\n",
        "seconds = int(input_seconds)%60\n",
        "\n",
        "print(\"{} seconds is {} minutes and {} seconds.\".format(input_seconds,minutes,seconds))"
      ]
    },
    {
      "cell_type": "markdown",
      "metadata": {
        "id": "t91qcgNrXeaJ"
      },
      "source": [
        "# Ex 10: Using Math Module\n",
        "\n",
        "Write a program that asks the user for a number and then prints out the sine, cosine, and tangent of that number."
      ]
    },
    {
      "cell_type": "code",
      "execution_count": 20,
      "metadata": {
        "id": "NpSS16yhXeaJ",
        "outputId": "a2c78ca0-0683-40ff-f077-5428294ca2dc",
        "colab": {
          "base_uri": "https://localhost:8080/"
        }
      },
      "outputs": [
        {
          "output_type": "stream",
          "name": "stdout",
          "text": [
            "Enter number :20\n",
            "Sine value : 0.9129452507276277\n",
            "CoSine value : 0.40808206181339196\n",
            "Tangent value : 2.237160944224742\n"
          ]
        }
      ],
      "source": [
        "import math\n",
        "number = float(input(\"Enter number :\"))\n",
        "\n",
        "sine_value = math.sin(number)\n",
        "cosine_value = math.cos(number)\n",
        "tangent_value = math.tan(number)\n",
        "\n",
        "print(\"Sine value :\", sine_value)\n",
        "print(\"CoSine value :\", cosine_value)\n",
        "print(\"Tangent value :\", tangent_value)\n"
      ]
    }
  ],
  "metadata": {
    "colab": {
      "name": "Ex1_Python.ipynb",
      "provenance": [],
      "include_colab_link": true
    },
    "kernelspec": {
      "display_name": "Python 3",
      "language": "python",
      "name": "python3"
    },
    "language_info": {
      "codemirror_mode": {
        "name": "ipython",
        "version": 3
      },
      "file_extension": ".py",
      "mimetype": "text/x-python",
      "name": "python",
      "nbconvert_exporter": "python",
      "pygments_lexer": "ipython3",
      "version": "3.12.1"
    }
  },
  "nbformat": 4,
  "nbformat_minor": 0
}