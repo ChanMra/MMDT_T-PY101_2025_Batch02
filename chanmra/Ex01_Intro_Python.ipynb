{
 "cells": [
  {
   "cell_type": "markdown",
   "metadata": {
    "colab_type": "text",
    "id": "view-in-github"
   },
   "source": [
    "<a href=\"https://colab.research.google.com/github/myothida/PythonProgramming/blob/main/Ex1_Python.ipynb\" target=\"_parent\"><img src=\"https://colab.research.google.com/assets/colab-badge.svg\" alt=\"Open In Colab\"/></a>"
   ]
  },
  {
   "cell_type": "markdown",
   "metadata": {
    "id": "thgO68_HZ0Aa"
   },
   "source": [
    "# Introduction"
   ]
  },
  {
   "cell_type": "markdown",
   "metadata": {
    "id": "PIh3i0c_Z_yP"
   },
   "source": [
    "This section introduces the Python Programming uisng Colab. Follow the instructions and complete the exercises."
   ]
  },
  {
   "cell_type": "markdown",
   "metadata": {
    "id": "gCw6SfeFZ78l"
   },
   "source": [
    "# Ex 1 : Check Version"
   ]
  },
  {
   "cell_type": "markdown",
   "metadata": {
    "id": "6Vm-27iLabjm"
   },
   "source": [
    "Using the below cell, Import the required library and check the version of the python in your environment. "
   ]
  },
  {
   "cell_type": "code",
   "execution_count": 1,
   "metadata": {
    "id": "PJDYHB4AXVdc"
   },
   "outputs": [],
   "source": [
    "import sys"
   ]
  },
  {
   "cell_type": "markdown",
   "metadata": {
    "id": "5qTEiwGlawf5"
   },
   "source": [
    "# Ex2 : Convert Currency. "
   ]
  },
  {
   "cell_type": "markdown",
   "metadata": {
    "id": "XH8K1p0ypVCg"
   },
   "source": [
    "Write a program that asks the user for the amount in usd and converts it to British pounds. The exchange rate is from usd to BP is given as 0.82"
   ]
  },
  {
   "cell_type": "code",
   "execution_count": null,
   "metadata": {
    "colab": {
     "base_uri": "https://localhost:8080/"
    },
    "id": "x9xQXOnRa0MS",
    "outputId": "64294c78-0769-4728-f781-9204a1aa51e3"
   },
   "outputs": [
    {
     "name": "stdout",
     "output_type": "stream",
     "text": [
      "20 usd is equivalent to 16.4 british pound\n"
     ]
    }
   ],
   "source": [
    "usd_amount = input (\"Enter the amount in USD: \")\n",
    "bp_amount = int(usd_amount) *0.82\n",
    "print(\"{} usd is equivalent to {} british pound\".format(usd_amount, bp_amount))"
   ]
  },
  {
   "cell_type": "markdown",
   "metadata": {
    "id": "ePfECwUIpli4"
   },
   "source": [
    "# Ex 3: Temperature Converter"
   ]
  },
  {
   "cell_type": "markdown",
   "metadata": {
    "id": "Y60hUWDsp3pK"
   },
   "source": [
    "Write a program that convert temperature in Feranhite to celsius. "
   ]
  },
  {
   "cell_type": "code",
   "execution_count": 1,
   "metadata": {
    "id": "G9PbO6qPoUfn"
   },
   "outputs": [
    {
     "name": "stdout",
     "output_type": "stream",
     "text": [
      "100 temperature in Feranhite is equavalent to 37.78 temperature in celsius\n"
     ]
    }
   ],
   "source": [
    "temperature_F = input (\"Enter temperature in Feranhite: \")\n",
    "temperature_C = round ((int (temperature_F) - 32)* 5/9,2)\n",
    "print (\"{} temperature in Feranhite is equavalent to {} temperature in celsius\".format (temperature_F,temperature_C))"
   ]
  },
  {
   "cell_type": "markdown",
   "metadata": {
    "id": "a2kNRO9Vp7Qz"
   },
   "source": [
    "# Ex 4: Daily Maths"
   ]
  },
  {
   "cell_type": "markdown",
   "metadata": {
    "id": "lItKon9qqEUn"
   },
   "source": [
    "You are working in a retail shop. Write a program that computes the total cost for a customer that bought 3 differnt types of fruits : apple, orange, mango. Ask the user to enter the quantity and price for each type. "
   ]
  },
  {
   "cell_type": "code",
   "execution_count": null,
   "metadata": {
    "id": "mIQFjH6wqDma"
   },
   "outputs": [
    {
     "name": "stdout",
     "output_type": "stream",
     "text": [
      "The total cost for the fruits is 300.0\n"
     ]
    }
   ],
   "source": [
    "apple_quantity = int (input (\"Enter quantity for apple: \"))\n",
    "apple_price = float (input (\"Enter price for apple: \"))\n",
    "\n",
    "orange_quantity = int (input (\"Enter quantity for orange: \"))\n",
    "orange_price = float (input (\"Enter price for orange: \"))\n",
    "\n",
    "mango_quantity = int (input (\"Enter quantity for mango: \"))\n",
    "mango_price = float (input (\"Enter price for mango: \"))\n",
    "\n",
    "apple_total_price = apple_quantity * apple_price\n",
    "orange_total_price = orange_quantity * orange_price\n",
    "mango_total_price = mango_quantity * mango_price\n",
    "\n",
    "all_total_price = apple_total_price + orange_total_price + mango_total_price\n",
    "\n",
    "print (\"The total cost for the fruits is {}\".format (all_total_price))"
   ]
  },
  {
   "cell_type": "markdown",
   "metadata": {
    "id": "31fXlmEQqgvW"
   },
   "source": [
    "# Ex 5 : Greeting"
   ]
  },
  {
   "cell_type": "markdown",
   "metadata": {
    "id": "zvnmj8MGrJIw"
   },
   "source": [
    "Write a program to greet the customer who provides the user name. Your program should ask the name of the customer and print \"Hello + customer name\""
   ]
  },
  {
   "cell_type": "code",
   "execution_count": null,
   "metadata": {
    "id": "Z6ynxZMarIXh"
   },
   "outputs": [
    {
     "name": "stdout",
     "output_type": "stream",
     "text": [
      "Hello Thor Thor.\n"
     ]
    }
   ],
   "source": [
    "user_name = input (\"Enter customer name: \")\n",
    "print(f\"Hello {user_name}.\")"
   ]
  },
  {
   "cell_type": "markdown",
   "metadata": {},
   "source": [
    "# Ex 6: Random Number\n",
    "Write a program that generates a random number, x, between 1 and 50, a random number y between 2 and 5, and computes x^y."
   ]
  },
  {
   "cell_type": "code",
   "execution_count": 10,
   "metadata": {},
   "outputs": [
    {
     "name": "stdout",
     "output_type": "stream",
     "text": [
      "A random number between 1 and 50:  47\n",
      "A random number between 2 and 5:  5\n",
      "The result is 229345007\n"
     ]
    }
   ],
   "source": [
    "from random import randint\n",
    "x = randint(1,50)\n",
    "print('A random number between 1 and 50: ', x)\n",
    "y = randint(2,5)\n",
    "print('A random number between 2 and 5: ', y)\n",
    "result = x**y\n",
    "print (\"The result is {}\".format(result))"
   ]
  },
  {
   "cell_type": "markdown",
   "metadata": {},
   "source": [
    "# Ex 7: Greet many times.\n",
    "Write a program that generates a random number between 1 and 10 and prints your name that many times."
   ]
  },
  {
   "cell_type": "code",
   "execution_count": null,
   "metadata": {},
   "outputs": [
    {
     "name": "stdout",
     "output_type": "stream",
     "text": [
      "Chan Mra Thandar\n",
      "Chan Mra Thandar\n",
      "Chan Mra Thandar\n",
      "Chan Mra Thandar\n",
      "Chan Mra Thandar\n",
      "Chan Mra Thandar\n",
      "Chan Mra Thandar\n"
     ]
    }
   ],
   "source": [
    "random_n = randint (1,10)\n",
    "for i in range(random_n):\n",
    "    print (\"Chan Mra Thandar\")\n"
   ]
  },
  {
   "cell_type": "markdown",
   "metadata": {},
   "source": [
    "# Ex 8: Computing. \n",
    "Write a program that asks the user to enter two numbers, x and y, and computes |x-y|/(x+y)."
   ]
  },
  {
   "cell_type": "code",
   "execution_count": null,
   "metadata": {},
   "outputs": [
    {
     "name": "stdout",
     "output_type": "stream",
     "text": [
      "The result of the calculation is 4.8.\n"
     ]
    }
   ],
   "source": [
    "x = float (input (\"Enter the number: \"))\n",
    "y = float (input (\"Enter the number: \"))\n",
    "result = abs(x-y)/x+y\n",
    "print (f\"The result of the calculation is {result}.\")"
   ]
  },
  {
   "cell_type": "markdown",
   "metadata": {},
   "source": [
    "# Ex 9: Computing\n",
    "\n",
    "Write a program that asks the user for a number of seconds and prints out how many minutes and seconds that is. For instance, 200 seconds is 3 minutes and 20 seconds."
   ]
  },
  {
   "cell_type": "code",
   "execution_count": null,
   "metadata": {},
   "outputs": [
    {
     "name": "stdout",
     "output_type": "stream",
     "text": [
      "The total duration is 2 minutes and 38 seconds\n"
     ]
    }
   ],
   "source": [
    "num_seconds = int (input (\"Enter the numer of seconds: \"))\n",
    "minutes = num_seconds//60\n",
    "seconds = num_seconds % 60\n",
    "print (\"The total duration is {} minutes and {} seconds\".format (minutes,seconds))"
   ]
  },
  {
   "cell_type": "markdown",
   "metadata": {},
   "source": [
    "# Ex 10: Using Math Module\n",
    "\n",
    "Write a program that asks the user for a number and then prints out the sine, cosine, and tangent of that number."
   ]
  },
  {
   "cell_type": "code",
   "execution_count": 9,
   "metadata": {},
   "outputs": [
    {
     "name": "stdout",
     "output_type": "stream",
     "text": [
      "Sine value of 23 is -0.8462204041751706\n",
      "Cosine value of 23 is -0.5328330203333975\n",
      "Tangent value of 23 is 1.588153083391274\n"
     ]
    }
   ],
   "source": [
    "import math\n",
    "num = int(input(\"Enter a number:\"))\n",
    "\n",
    "sine_value = math.sin(num)\n",
    "print(f\"Sine value of {num} is {sine_value}\")\n",
    "\n",
    "cosine_value = math.cos(num)\n",
    "print(f\"Cosine value of {num} is {cosine_value}\")\n",
    "\n",
    "tangent_value = math.tan(num)\n",
    "print(f\"Tangent value of {num} is {tangent_value}\")\n"
   ]
  },
  {
   "cell_type": "code",
   "execution_count": null,
   "metadata": {},
   "outputs": [],
   "source": []
  }
 ],
 "metadata": {
  "colab": {
   "collapsed_sections": [],
   "include_colab_link": true,
   "name": "Ex1_Python.ipynb",
   "provenance": []
  },
  "kernelspec": {
   "display_name": "base",
   "language": "python",
   "name": "python3"
  },
  "language_info": {
   "codemirror_mode": {
    "name": "ipython",
    "version": 3
   },
   "file_extension": ".py",
   "mimetype": "text/x-python",
   "name": "python",
   "nbconvert_exporter": "python",
   "pygments_lexer": "ipython3",
   "version": "3.12.7"
  }
 },
 "nbformat": 4,
 "nbformat_minor": 1
}
